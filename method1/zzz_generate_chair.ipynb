{
 "cells": [
  {
   "cell_type": "code",
   "execution_count": 1,
   "metadata": {},
   "outputs": [
    {
     "name": "stdout",
     "output_type": "stream",
     "text": [
      "Jupyter environment detected. Enabling Open3D WebVisualizer.\n",
      "[Open3D INFO] WebRTC GUI backend enabled.\n",
      "[Open3D INFO] WebRTCWindowSystem: HTTP handshake server disabled.\n"
     ]
    }
   ],
   "source": [
    "import torch\n",
    "import numpy as np\n",
    "import open3d as o3d\n",
    "from tqdm import tqdm\n",
    "import point_cloud_utils as pcu\n",
    "\n",
    "\n",
    "def extract_visible_points(points, x_v, y_v, z_v, r):\n",
    "    num_complete = points.shape[0]\n",
    "    pcd = o3d.geometry.PointCloud()\n",
    "    pcd.points = o3d.utility.Vector3dVector(points)\n",
    "    cam_pos = [x_v, y_v, z_v]\n",
    "    _, pt_map = pcd.hidden_point_removal(cam_pos, r)\n",
    "    pcd_vis = pcd.select_by_index(pt_map)\n",
    "    points_vis = np.asarray(pcd_vis.points).astype(np.float32)\n",
    "    indices_vis = np.asarray(pt_map)\n",
    "    return indices_vis, points_vis\n",
    "\n",
    "\n",
    "def save_pc_as_ply(save_path, points, colors=None, normals=None):\n",
    "    assert save_path[-3:] == 'ply', 'not .ply file'\n",
    "    if type(points) == torch.Tensor:\n",
    "        points = np.asarray(points.detach().cpu())\n",
    "    pcd = o3d.geometry.PointCloud()\n",
    "    pcd.points = o3d.utility.Vector3dVector(points)\n",
    "    if colors is not None:\n",
    "        if type(colors) == torch.Tensor:\n",
    "            colors = np.asarray(colors.detach().cpu())\n",
    "        assert colors.min()>=0 and colors.max()<=1\n",
    "        pcd.colors = o3d.utility.Vector3dVector(colors) # should be within the range of [0, 1]\n",
    "    if normals is not None:\n",
    "        if type(normals) == torch.Tensor:\n",
    "            normals = np.asarray(normals.detach().cpu())\n",
    "        pcd.normals = o3d.utility.Vector3dVector(normals)\n",
    "    o3d.io.write_point_cloud(save_path, pcd, write_ascii=True) # should be saved as .ply file\n",
    "\n",
    "\n",
    "def bounding_box_normalization(pc):\n",
    "    # pc: (num_points, num_channels)\n",
    "    # pc_normalized: (num_points, num_channels)\n",
    "    num_points, num_channels = pc.shape\n",
    "    xyz = pc[:, 0:3]\n",
    "    attr = pc[:, 3:]\n",
    "    xyz = xyz - (np.min(xyz, axis=0) + np.max(xyz, axis=0))/2\n",
    "    max_d = np.max(np.sqrt(np.abs(np.sum(xyz**2, axis=1)))) # a scalar\n",
    "    xyz_normalized = xyz / max_d\n",
    "    pc_normalized = np.concatenate((xyz_normalized, attr), axis=1)\n",
    "    return pc_normalized\n",
    "\n",
    "def farthest_point_sample(point, npoint=8192):\n",
    "    \"\"\"\n",
    "    Input:\n",
    "        xyz: pointcloud data, [N, D]\n",
    "        npoint: number of samples\n",
    "    Return:\n",
    "        centroids: sampled pointcloud index, [npoint, D]\n",
    "    \"\"\"\n",
    "    N, D = point.shape\n",
    "    xyz = point[:,:3]\n",
    "    centroids = np.zeros((npoint,))\n",
    "    distance = np.ones((N,)) * 1e10\n",
    "    farthest = np.random.randint(0, N)\n",
    "    for i in range(npoint):\n",
    "        centroids[i] = farthest\n",
    "        centroid = xyz[farthest, :]\n",
    "        dist = np.sum((xyz - centroid) ** 2, -1)\n",
    "        mask = dist < distance\n",
    "        distance[mask] = dist[mask]\n",
    "        farthest = np.argmax(distance, -1)\n",
    "    return centroids.astype(np.int32)"
   ]
  },
  {
   "cell_type": "code",
   "execution_count": 2,
   "metadata": {},
   "outputs": [],
   "source": [
    "import os,sys\n",
    "allcarfolders = os.listdir('/mnt/d/junch_data/diffusion_231019/all_chair_30')\n",
    "allcarfoldersnew=[]\n",
    "for r in allcarfolders:\n",
    "    allcarfoldersnew.append(r.split('_')[0])\n",
    "allcarfoldersnew = sorted(allcarfoldersnew)"
   ]
  },
  {
   "cell_type": "code",
   "execution_count": 3,
   "metadata": {},
   "outputs": [
    {
     "name": "stderr",
     "output_type": "stream",
     "text": [
      "FilterScript\n",
      "Reading filter with name Transfer Color: Face to Vertex\n",
      "Reading filter with name Poisson-disk Sampling\n",
      "Reading filter with name Vertex Attribute Transfer\n",
      "100%|██████████| 82/82 [00:22<00:00,  3.69it/s]\n"
     ]
    },
    {
     "name": "stdout",
     "output_type": "stream",
     "text": [
      "input points: 124475, selected points: 122153\n"
     ]
    },
    {
     "name": "stderr",
     "output_type": "stream",
     "text": [
      "FilterScript\n",
      "Reading filter with name Transfer Color: Face to Vertex\n",
      "Reading filter with name Poisson-disk Sampling\n",
      "Reading filter with name Vertex Attribute Transfer\n",
      "100%|██████████| 82/82 [00:12<00:00,  6.52it/s]\n"
     ]
    },
    {
     "name": "stdout",
     "output_type": "stream",
     "text": [
      "input points: 91093, selected points: 84379\n"
     ]
    },
    {
     "name": "stderr",
     "output_type": "stream",
     "text": [
      "FilterScript\n",
      "Reading filter with name Transfer Color: Face to Vertex\n",
      "Reading filter with name Poisson-disk Sampling\n",
      "Reading filter with name Vertex Attribute Transfer\n",
      "100%|██████████| 82/82 [00:17<00:00,  4.75it/s]\n"
     ]
    },
    {
     "name": "stdout",
     "output_type": "stream",
     "text": [
      "input points: 97618, selected points: 85084\n"
     ]
    },
    {
     "name": "stderr",
     "output_type": "stream",
     "text": [
      "FilterScript\n",
      "Reading filter with name Transfer Color: Face to Vertex\n",
      "Reading filter with name Poisson-disk Sampling\n",
      "Reading filter with name Vertex Attribute Transfer\n",
      "100%|██████████| 82/82 [00:12<00:00,  6.64it/s]\n"
     ]
    },
    {
     "name": "stdout",
     "output_type": "stream",
     "text": [
      "input points: 88809, selected points: 82489\n"
     ]
    },
    {
     "name": "stderr",
     "output_type": "stream",
     "text": [
      "FilterScript\n",
      "Reading filter with name Transfer Color: Face to Vertex\n",
      "Reading filter with name Poisson-disk Sampling\n",
      "Reading filter with name Vertex Attribute Transfer\n",
      "100%|██████████| 82/82 [00:17<00:00,  4.76it/s]\n"
     ]
    },
    {
     "name": "stdout",
     "output_type": "stream",
     "text": [
      "input points: 90760, selected points: 86958\n"
     ]
    },
    {
     "name": "stderr",
     "output_type": "stream",
     "text": [
      "FilterScript\n",
      "Reading filter with name Transfer Color: Face to Vertex\n",
      "Reading filter with name Poisson-disk Sampling\n",
      "Reading filter with name Vertex Attribute Transfer\n",
      "100%|██████████| 82/82 [00:16<00:00,  5.11it/s]\n"
     ]
    },
    {
     "name": "stdout",
     "output_type": "stream",
     "text": [
      "input points: 88163, selected points: 79030\n"
     ]
    },
    {
     "name": "stderr",
     "output_type": "stream",
     "text": [
      "FilterScript\n",
      "Reading filter with name Transfer Color: Face to Vertex\n",
      "Reading filter with name Poisson-disk Sampling\n",
      "Reading filter with name Vertex Attribute Transfer\n",
      "100%|██████████| 82/82 [00:14<00:00,  5.71it/s]\n"
     ]
    },
    {
     "name": "stdout",
     "output_type": "stream",
     "text": [
      "input points: 86460, selected points: 67376\n"
     ]
    },
    {
     "name": "stderr",
     "output_type": "stream",
     "text": [
      "FilterScript\n",
      "Reading filter with name Transfer Color: Face to Vertex\n",
      "Reading filter with name Poisson-disk Sampling\n",
      "Reading filter with name Vertex Attribute Transfer\n",
      "100%|██████████| 82/82 [00:19<00:00,  4.30it/s]\n"
     ]
    },
    {
     "name": "stdout",
     "output_type": "stream",
     "text": [
      "input points: 90635, selected points: 77696\n"
     ]
    },
    {
     "name": "stderr",
     "output_type": "stream",
     "text": [
      "FilterScript\n",
      "Reading filter with name Transfer Color: Face to Vertex\n",
      "Reading filter with name Poisson-disk Sampling\n",
      "Reading filter with name Vertex Attribute Transfer\n",
      "100%|██████████| 82/82 [00:18<00:00,  4.54it/s]\n"
     ]
    },
    {
     "name": "stdout",
     "output_type": "stream",
     "text": [
      "input points: 91668, selected points: 80791\n"
     ]
    },
    {
     "name": "stderr",
     "output_type": "stream",
     "text": [
      "FilterScript\n",
      "Reading filter with name Transfer Color: Face to Vertex\n",
      "Reading filter with name Poisson-disk Sampling\n",
      "Reading filter with name Vertex Attribute Transfer\n",
      "100%|██████████| 82/82 [00:18<00:00,  4.52it/s]\n"
     ]
    },
    {
     "name": "stdout",
     "output_type": "stream",
     "text": [
      "input points: 70699, selected points: 65890\n"
     ]
    },
    {
     "name": "stderr",
     "output_type": "stream",
     "text": [
      "FilterScript\n",
      "Reading filter with name Transfer Color: Face to Vertex\n",
      "Reading filter with name Poisson-disk Sampling\n",
      "Reading filter with name Vertex Attribute Transfer\n",
      "100%|██████████| 82/82 [00:25<00:00,  3.22it/s]\n"
     ]
    },
    {
     "name": "stdout",
     "output_type": "stream",
     "text": [
      "input points: 90985, selected points: 82526\n"
     ]
    },
    {
     "name": "stderr",
     "output_type": "stream",
     "text": [
      "FilterScript\n",
      "Reading filter with name Transfer Color: Face to Vertex\n",
      "Reading filter with name Poisson-disk Sampling\n",
      "Reading filter with name Vertex Attribute Transfer\n",
      "100%|██████████| 82/82 [00:27<00:00,  2.98it/s]\n"
     ]
    },
    {
     "name": "stdout",
     "output_type": "stream",
     "text": [
      "input points: 91252, selected points: 86195\n"
     ]
    },
    {
     "name": "stderr",
     "output_type": "stream",
     "text": [
      "FilterScript\n",
      "Reading filter with name Transfer Color: Face to Vertex\n",
      "Reading filter with name Poisson-disk Sampling\n",
      "Reading filter with name Vertex Attribute Transfer\n",
      "100%|██████████| 82/82 [01:19<00:00,  1.03it/s]\n"
     ]
    },
    {
     "name": "stdout",
     "output_type": "stream",
     "text": [
      "input points: 177080, selected points: 176597\n"
     ]
    },
    {
     "name": "stderr",
     "output_type": "stream",
     "text": [
      "FilterScript\n",
      "Reading filter with name Transfer Color: Face to Vertex\n",
      "Reading filter with name Poisson-disk Sampling\n",
      "Reading filter with name Vertex Attribute Transfer\n",
      "100%|██████████| 82/82 [00:54<00:00,  1.51it/s]\n"
     ]
    },
    {
     "name": "stdout",
     "output_type": "stream",
     "text": [
      "input points: 92532, selected points: 91601\n"
     ]
    },
    {
     "name": "stderr",
     "output_type": "stream",
     "text": [
      "FilterScript\n",
      "Reading filter with name Transfer Color: Face to Vertex\n",
      "Reading filter with name Poisson-disk Sampling\n",
      "Reading filter with name Vertex Attribute Transfer\n",
      "100%|██████████| 82/82 [01:14<00:00,  1.10it/s]\n"
     ]
    },
    {
     "name": "stdout",
     "output_type": "stream",
     "text": [
      "input points: 177008, selected points: 169235\n"
     ]
    },
    {
     "name": "stderr",
     "output_type": "stream",
     "text": [
      "FilterScript\n",
      "Reading filter with name Transfer Color: Face to Vertex\n",
      "Reading filter with name Poisson-disk Sampling\n",
      "Reading filter with name Vertex Attribute Transfer\n",
      "100%|██████████| 82/82 [00:27<00:00,  2.97it/s]\n"
     ]
    },
    {
     "name": "stdout",
     "output_type": "stream",
     "text": [
      "input points: 85909, selected points: 65526\n"
     ]
    },
    {
     "name": "stderr",
     "output_type": "stream",
     "text": [
      "FilterScript\n",
      "Reading filter with name Transfer Color: Face to Vertex\n",
      "Reading filter with name Poisson-disk Sampling\n",
      "Reading filter with name Vertex Attribute Transfer\n",
      "100%|██████████| 82/82 [00:35<00:00,  2.29it/s]\n"
     ]
    },
    {
     "name": "stdout",
     "output_type": "stream",
     "text": [
      "input points: 91087, selected points: 74362\n"
     ]
    },
    {
     "name": "stderr",
     "output_type": "stream",
     "text": [
      "FilterScript\n",
      "Reading filter with name Transfer Color: Face to Vertex\n",
      "Reading filter with name Poisson-disk Sampling\n",
      "Reading filter with name Vertex Attribute Transfer\n",
      "100%|██████████| 82/82 [00:29<00:00,  2.78it/s]\n"
     ]
    },
    {
     "name": "stdout",
     "output_type": "stream",
     "text": [
      "input points: 90788, selected points: 86164\n"
     ]
    },
    {
     "name": "stderr",
     "output_type": "stream",
     "text": [
      "FilterScript\n",
      "Reading filter with name Transfer Color: Face to Vertex\n",
      "Reading filter with name Poisson-disk Sampling\n",
      "Reading filter with name Vertex Attribute Transfer\n",
      "100%|██████████| 82/82 [00:30<00:00,  2.68it/s]\n"
     ]
    },
    {
     "name": "stdout",
     "output_type": "stream",
     "text": [
      "input points: 81135, selected points: 72309\n"
     ]
    },
    {
     "name": "stderr",
     "output_type": "stream",
     "text": [
      "FilterScript\n",
      "Reading filter with name Transfer Color: Face to Vertex\n",
      "Reading filter with name Poisson-disk Sampling\n",
      "Reading filter with name Vertex Attribute Transfer\n",
      "100%|██████████| 82/82 [00:20<00:00,  4.08it/s]\n"
     ]
    },
    {
     "name": "stdout",
     "output_type": "stream",
     "text": [
      "input points: 79452, selected points: 50227\n"
     ]
    },
    {
     "name": "stderr",
     "output_type": "stream",
     "text": [
      "FilterScript\n",
      "Reading filter with name Transfer Color: Face to Vertex\n",
      "Reading filter with name Poisson-disk Sampling\n",
      "Reading filter with name Vertex Attribute Transfer\n",
      "100%|██████████| 82/82 [00:31<00:00,  2.59it/s]\n"
     ]
    },
    {
     "name": "stdout",
     "output_type": "stream",
     "text": [
      "input points: 81797, selected points: 78610\n"
     ]
    },
    {
     "name": "stderr",
     "output_type": "stream",
     "text": [
      "FilterScript\n",
      "Reading filter with name Transfer Color: Face to Vertex\n",
      "Reading filter with name Poisson-disk Sampling\n",
      "Reading filter with name Vertex Attribute Transfer\n",
      "100%|██████████| 82/82 [01:10<00:00,  1.16it/s]\n"
     ]
    },
    {
     "name": "stdout",
     "output_type": "stream",
     "text": [
      "input points: 174035, selected points: 153669\n"
     ]
    },
    {
     "name": "stderr",
     "output_type": "stream",
     "text": [
      "FilterScript\n",
      "Reading filter with name Transfer Color: Face to Vertex\n",
      "Reading filter with name Poisson-disk Sampling\n",
      "Reading filter with name Vertex Attribute Transfer\n",
      "100%|██████████| 82/82 [00:27<00:00,  2.98it/s]\n"
     ]
    },
    {
     "name": "stdout",
     "output_type": "stream",
     "text": [
      "input points: 88424, selected points: 79474\n"
     ]
    },
    {
     "name": "stderr",
     "output_type": "stream",
     "text": [
      "FilterScript\n",
      "Reading filter with name Transfer Color: Face to Vertex\n",
      "Reading filter with name Poisson-disk Sampling\n",
      "Reading filter with name Vertex Attribute Transfer\n",
      "100%|██████████| 82/82 [00:31<00:00,  2.63it/s]\n"
     ]
    },
    {
     "name": "stdout",
     "output_type": "stream",
     "text": [
      "input points: 88196, selected points: 82474\n"
     ]
    },
    {
     "name": "stderr",
     "output_type": "stream",
     "text": [
      "FilterScript\n",
      "Reading filter with name Transfer Color: Face to Vertex\n",
      "Reading filter with name Poisson-disk Sampling\n",
      "Reading filter with name Vertex Attribute Transfer\n",
      "100%|██████████| 82/82 [00:32<00:00,  2.49it/s]\n"
     ]
    },
    {
     "name": "stdout",
     "output_type": "stream",
     "text": [
      "input points: 91899, selected points: 88611\n"
     ]
    },
    {
     "name": "stderr",
     "output_type": "stream",
     "text": [
      "FilterScript\n",
      "Reading filter with name Transfer Color: Face to Vertex\n",
      "Reading filter with name Poisson-disk Sampling\n",
      "Reading filter with name Vertex Attribute Transfer\n",
      "100%|██████████| 82/82 [00:32<00:00,  2.56it/s]\n"
     ]
    },
    {
     "name": "stdout",
     "output_type": "stream",
     "text": [
      "input points: 91905, selected points: 84550\n"
     ]
    },
    {
     "name": "stderr",
     "output_type": "stream",
     "text": [
      "FilterScript\n",
      "Reading filter with name Transfer Color: Face to Vertex\n",
      "Reading filter with name Poisson-disk Sampling\n",
      "Reading filter with name Vertex Attribute Transfer\n",
      "100%|██████████| 82/82 [00:19<00:00,  4.16it/s]\n"
     ]
    },
    {
     "name": "stdout",
     "output_type": "stream",
     "text": [
      "input points: 75301, selected points: 55474\n"
     ]
    },
    {
     "name": "stderr",
     "output_type": "stream",
     "text": [
      "FilterScript\n",
      "Reading filter with name Transfer Color: Face to Vertex\n",
      "Reading filter with name Poisson-disk Sampling\n",
      "Reading filter with name Vertex Attribute Transfer\n",
      "100%|██████████| 82/82 [00:34<00:00,  2.38it/s]\n"
     ]
    },
    {
     "name": "stdout",
     "output_type": "stream",
     "text": [
      "input points: 91284, selected points: 84056\n"
     ]
    },
    {
     "name": "stderr",
     "output_type": "stream",
     "text": [
      "FilterScript\n",
      "Reading filter with name Transfer Color: Face to Vertex\n",
      "Reading filter with name Poisson-disk Sampling\n",
      "Reading filter with name Vertex Attribute Transfer\n",
      "100%|██████████| 82/82 [00:20<00:00,  4.01it/s]\n"
     ]
    },
    {
     "name": "stdout",
     "output_type": "stream",
     "text": [
      "input points: 86444, selected points: 67744\n"
     ]
    },
    {
     "name": "stderr",
     "output_type": "stream",
     "text": [
      "FilterScript\n",
      "Reading filter with name Transfer Color: Face to Vertex\n",
      "Reading filter with name Poisson-disk Sampling\n",
      "Reading filter with name Vertex Attribute Transfer\n",
      "100%|██████████| 82/82 [00:27<00:00,  2.93it/s]\n"
     ]
    },
    {
     "name": "stdout",
     "output_type": "stream",
     "text": [
      "input points: 98585, selected points: 82675\n"
     ]
    },
    {
     "name": "stderr",
     "output_type": "stream",
     "text": [
      "FilterScript\n",
      "Reading filter with name Transfer Color: Face to Vertex\n",
      "Reading filter with name Poisson-disk Sampling\n",
      "Reading filter with name Vertex Attribute Transfer\n",
      "100%|██████████| 82/82 [00:20<00:00,  4.07it/s]\n"
     ]
    },
    {
     "name": "stdout",
     "output_type": "stream",
     "text": [
      "input points: 73044, selected points: 53354\n"
     ]
    },
    {
     "name": "stderr",
     "output_type": "stream",
     "text": [
      "FilterScript\n",
      "Reading filter with name Transfer Color: Face to Vertex\n",
      "Reading filter with name Poisson-disk Sampling\n",
      "Reading filter with name Vertex Attribute Transfer\n",
      "100%|██████████| 82/82 [00:33<00:00,  2.45it/s]\n"
     ]
    },
    {
     "name": "stdout",
     "output_type": "stream",
     "text": [
      "input points: 92120, selected points: 76568\n"
     ]
    },
    {
     "name": "stderr",
     "output_type": "stream",
     "text": [
      "FilterScript\n",
      "Reading filter with name Transfer Color: Face to Vertex\n",
      "Reading filter with name Poisson-disk Sampling\n",
      "Reading filter with name Vertex Attribute Transfer\n",
      "100%|██████████| 82/82 [00:19<00:00,  4.31it/s]\n"
     ]
    },
    {
     "name": "stdout",
     "output_type": "stream",
     "text": [
      "input points: 82331, selected points: 58099\n"
     ]
    },
    {
     "name": "stderr",
     "output_type": "stream",
     "text": [
      "FilterScript\n",
      "Reading filter with name Transfer Color: Face to Vertex\n",
      "Reading filter with name Poisson-disk Sampling\n",
      "Reading filter with name Vertex Attribute Transfer\n",
      "100%|██████████| 82/82 [00:31<00:00,  2.60it/s]\n"
     ]
    },
    {
     "name": "stdout",
     "output_type": "stream",
     "text": [
      "input points: 78293, selected points: 52106\n"
     ]
    },
    {
     "name": "stderr",
     "output_type": "stream",
     "text": [
      "FilterScript\n",
      "Reading filter with name Transfer Color: Face to Vertex\n",
      "Reading filter with name Poisson-disk Sampling\n",
      "Reading filter with name Vertex Attribute Transfer\n",
      "100%|██████████| 82/82 [00:34<00:00,  2.41it/s]\n"
     ]
    },
    {
     "name": "stdout",
     "output_type": "stream",
     "text": [
      "input points: 91658, selected points: 84473\n"
     ]
    },
    {
     "name": "stderr",
     "output_type": "stream",
     "text": [
      "FilterScript\n",
      "Reading filter with name Transfer Color: Face to Vertex\n",
      "Reading filter with name Poisson-disk Sampling\n",
      "Reading filter with name Vertex Attribute Transfer\n",
      "100%|██████████| 82/82 [00:36<00:00,  2.26it/s]\n"
     ]
    },
    {
     "name": "stdout",
     "output_type": "stream",
     "text": [
      "input points: 92318, selected points: 91473\n"
     ]
    },
    {
     "name": "stderr",
     "output_type": "stream",
     "text": [
      "FilterScript\n",
      "Reading filter with name Transfer Color: Face to Vertex\n",
      "Reading filter with name Poisson-disk Sampling\n",
      "Reading filter with name Vertex Attribute Transfer\n",
      "100%|██████████| 82/82 [00:31<00:00,  2.62it/s]\n"
     ]
    },
    {
     "name": "stdout",
     "output_type": "stream",
     "text": [
      "input points: 92017, selected points: 89099\n"
     ]
    },
    {
     "name": "stderr",
     "output_type": "stream",
     "text": [
      "FilterScript\n",
      "Reading filter with name Transfer Color: Face to Vertex\n",
      "Reading filter with name Poisson-disk Sampling\n",
      "Reading filter with name Vertex Attribute Transfer\n",
      "100%|██████████| 82/82 [00:19<00:00,  4.18it/s]\n"
     ]
    },
    {
     "name": "stdout",
     "output_type": "stream",
     "text": [
      "input points: 78170, selected points: 50163\n"
     ]
    },
    {
     "name": "stderr",
     "output_type": "stream",
     "text": [
      "FilterScript\n",
      "Reading filter with name Transfer Color: Face to Vertex\n",
      "Reading filter with name Poisson-disk Sampling\n",
      "Reading filter with name Vertex Attribute Transfer\n",
      "100%|██████████| 82/82 [00:24<00:00,  3.31it/s]\n"
     ]
    },
    {
     "name": "stdout",
     "output_type": "stream",
     "text": [
      "input points: 88276, selected points: 79973\n"
     ]
    },
    {
     "name": "stderr",
     "output_type": "stream",
     "text": [
      "FilterScript\n",
      "Reading filter with name Transfer Color: Face to Vertex\n",
      "Reading filter with name Poisson-disk Sampling\n",
      "Reading filter with name Vertex Attribute Transfer\n",
      "100%|██████████| 82/82 [00:30<00:00,  2.69it/s]\n"
     ]
    },
    {
     "name": "stdout",
     "output_type": "stream",
     "text": [
      "input points: 91253, selected points: 87251\n"
     ]
    },
    {
     "name": "stderr",
     "output_type": "stream",
     "text": [
      "FilterScript\n",
      "Reading filter with name Transfer Color: Face to Vertex\n",
      "Reading filter with name Poisson-disk Sampling\n",
      "Reading filter with name Vertex Attribute Transfer\n",
      "100%|██████████| 82/82 [00:46<00:00,  1.75it/s]\n"
     ]
    },
    {
     "name": "stdout",
     "output_type": "stream",
     "text": [
      "input points: 90941, selected points: 89621\n"
     ]
    },
    {
     "name": "stderr",
     "output_type": "stream",
     "text": [
      "FilterScript\n",
      "Reading filter with name Transfer Color: Face to Vertex\n",
      "Reading filter with name Poisson-disk Sampling\n",
      "Reading filter with name Vertex Attribute Transfer\n",
      "100%|██████████| 82/82 [00:35<00:00,  2.29it/s]\n"
     ]
    },
    {
     "name": "stdout",
     "output_type": "stream",
     "text": [
      "input points: 91697, selected points: 90875\n"
     ]
    },
    {
     "name": "stderr",
     "output_type": "stream",
     "text": [
      "FilterScript\n",
      "Reading filter with name Transfer Color: Face to Vertex\n",
      "Reading filter with name Poisson-disk Sampling\n",
      "Reading filter with name Vertex Attribute Transfer\n",
      "100%|██████████| 82/82 [00:35<00:00,  2.28it/s]\n"
     ]
    },
    {
     "name": "stdout",
     "output_type": "stream",
     "text": [
      "input points: 90269, selected points: 80431\n"
     ]
    },
    {
     "name": "stderr",
     "output_type": "stream",
     "text": [
      "FilterScript\n",
      "Reading filter with name Transfer Color: Face to Vertex\n",
      "Reading filter with name Poisson-disk Sampling\n",
      "Reading filter with name Vertex Attribute Transfer\n",
      "100%|██████████| 82/82 [00:36<00:00,  2.22it/s]\n"
     ]
    },
    {
     "name": "stdout",
     "output_type": "stream",
     "text": [
      "input points: 92445, selected points: 91744\n"
     ]
    },
    {
     "name": "stderr",
     "output_type": "stream",
     "text": [
      "FilterScript\n",
      "Reading filter with name Transfer Color: Face to Vertex\n",
      "Reading filter with name Poisson-disk Sampling\n",
      "Reading filter with name Vertex Attribute Transfer\n",
      "100%|██████████| 82/82 [00:29<00:00,  2.75it/s]\n"
     ]
    },
    {
     "name": "stdout",
     "output_type": "stream",
     "text": [
      "input points: 87065, selected points: 73621\n"
     ]
    },
    {
     "name": "stderr",
     "output_type": "stream",
     "text": [
      "FilterScript\n",
      "Reading filter with name Transfer Color: Face to Vertex\n",
      "Reading filter with name Poisson-disk Sampling\n",
      "Reading filter with name Vertex Attribute Transfer\n",
      "100%|██████████| 82/82 [00:23<00:00,  3.54it/s]\n"
     ]
    },
    {
     "name": "stdout",
     "output_type": "stream",
     "text": [
      "input points: 87923, selected points: 69182\n"
     ]
    },
    {
     "name": "stderr",
     "output_type": "stream",
     "text": [
      "FilterScript\n",
      "Reading filter with name Transfer Color: Face to Vertex\n",
      "Reading filter with name Poisson-disk Sampling\n",
      "Reading filter with name Vertex Attribute Transfer\n",
      "100%|██████████| 82/82 [00:30<00:00,  2.70it/s]\n"
     ]
    },
    {
     "name": "stdout",
     "output_type": "stream",
     "text": [
      "input points: 89734, selected points: 79859\n"
     ]
    },
    {
     "name": "stderr",
     "output_type": "stream",
     "text": [
      "FilterScript\n",
      "Reading filter with name Transfer Color: Face to Vertex\n",
      "Reading filter with name Poisson-disk Sampling\n",
      "Reading filter with name Vertex Attribute Transfer\n",
      "100%|██████████| 82/82 [00:55<00:00,  1.49it/s]\n"
     ]
    },
    {
     "name": "stdout",
     "output_type": "stream",
     "text": [
      "input points: 92057, selected points: 92057\n"
     ]
    },
    {
     "name": "stderr",
     "output_type": "stream",
     "text": [
      "FilterScript\n",
      "Reading filter with name Transfer Color: Face to Vertex\n",
      "Reading filter with name Poisson-disk Sampling\n",
      "Reading filter with name Vertex Attribute Transfer\n",
      "100%|██████████| 82/82 [01:06<00:00,  1.24it/s]\n"
     ]
    },
    {
     "name": "stdout",
     "output_type": "stream",
     "text": [
      "input points: 170769, selected points: 138951\n"
     ]
    },
    {
     "name": "stderr",
     "output_type": "stream",
     "text": [
      "FilterScript\n",
      "Reading filter with name Transfer Color: Face to Vertex\n",
      "Reading filter with name Poisson-disk Sampling\n",
      "Reading filter with name Vertex Attribute Transfer\n",
      "100%|██████████| 82/82 [01:28<00:00,  1.08s/it]\n"
     ]
    },
    {
     "name": "stdout",
     "output_type": "stream",
     "text": [
      "input points: 175776, selected points: 171600\n"
     ]
    },
    {
     "name": "stderr",
     "output_type": "stream",
     "text": [
      "FilterScript\n",
      "Reading filter with name Transfer Color: Face to Vertex\n",
      "Reading filter with name Poisson-disk Sampling\n",
      "Reading filter with name Vertex Attribute Transfer\n",
      "100%|██████████| 82/82 [00:32<00:00,  2.54it/s]\n"
     ]
    },
    {
     "name": "stdout",
     "output_type": "stream",
     "text": [
      "input points: 90275, selected points: 82834\n"
     ]
    },
    {
     "name": "stderr",
     "output_type": "stream",
     "text": [
      "FilterScript\n",
      "Reading filter with name Transfer Color: Face to Vertex\n",
      "Reading filter with name Poisson-disk Sampling\n",
      "Reading filter with name Vertex Attribute Transfer\n",
      "100%|██████████| 82/82 [00:37<00:00,  2.19it/s]\n"
     ]
    },
    {
     "name": "stdout",
     "output_type": "stream",
     "text": [
      "input points: 92171, selected points: 86222\n"
     ]
    },
    {
     "name": "stderr",
     "output_type": "stream",
     "text": [
      "FilterScript\n",
      "Reading filter with name Transfer Color: Face to Vertex\n",
      "Reading filter with name Poisson-disk Sampling\n",
      "Reading filter with name Vertex Attribute Transfer\n",
      "100%|██████████| 82/82 [00:49<00:00,  1.64it/s]\n"
     ]
    },
    {
     "name": "stdout",
     "output_type": "stream",
     "text": [
      "input points: 92344, selected points: 92344\n"
     ]
    },
    {
     "name": "stderr",
     "output_type": "stream",
     "text": [
      "FilterScript\n",
      "Reading filter with name Transfer Color: Face to Vertex\n",
      "Reading filter with name Poisson-disk Sampling\n",
      "Reading filter with name Vertex Attribute Transfer\n",
      "100%|██████████| 82/82 [00:27<00:00,  2.94it/s]\n"
     ]
    },
    {
     "name": "stdout",
     "output_type": "stream",
     "text": [
      "input points: 90966, selected points: 66135\n"
     ]
    },
    {
     "name": "stderr",
     "output_type": "stream",
     "text": [
      "FilterScript\n",
      "Reading filter with name Transfer Color: Face to Vertex\n",
      "Reading filter with name Poisson-disk Sampling\n",
      "Reading filter with name Vertex Attribute Transfer\n",
      "100%|██████████| 82/82 [00:33<00:00,  2.42it/s]\n"
     ]
    },
    {
     "name": "stdout",
     "output_type": "stream",
     "text": [
      "input points: 92259, selected points: 89911\n"
     ]
    },
    {
     "name": "stderr",
     "output_type": "stream",
     "text": [
      "FilterScript\n",
      "Reading filter with name Transfer Color: Face to Vertex\n",
      "Reading filter with name Poisson-disk Sampling\n",
      "Reading filter with name Vertex Attribute Transfer\n",
      "100%|██████████| 82/82 [00:27<00:00,  3.01it/s]\n"
     ]
    },
    {
     "name": "stdout",
     "output_type": "stream",
     "text": [
      "input points: 81157, selected points: 67020\n"
     ]
    },
    {
     "name": "stderr",
     "output_type": "stream",
     "text": [
      "FilterScript\n",
      "Reading filter with name Transfer Color: Face to Vertex\n",
      "Reading filter with name Poisson-disk Sampling\n",
      "Reading filter with name Vertex Attribute Transfer\n",
      "100%|██████████| 82/82 [00:43<00:00,  1.87it/s]\n"
     ]
    },
    {
     "name": "stdout",
     "output_type": "stream",
     "text": [
      "input points: 92584, selected points: 91885\n"
     ]
    },
    {
     "name": "stderr",
     "output_type": "stream",
     "text": [
      "FilterScript\n",
      "Reading filter with name Transfer Color: Face to Vertex\n",
      "Reading filter with name Poisson-disk Sampling\n",
      "Reading filter with name Vertex Attribute Transfer\n",
      "100%|██████████| 82/82 [00:35<00:00,  2.29it/s]\n"
     ]
    },
    {
     "name": "stdout",
     "output_type": "stream",
     "text": [
      "input points: 91802, selected points: 88886\n"
     ]
    },
    {
     "name": "stderr",
     "output_type": "stream",
     "text": [
      "FilterScript\n",
      "Reading filter with name Transfer Color: Face to Vertex\n",
      "Reading filter with name Poisson-disk Sampling\n",
      "Reading filter with name Vertex Attribute Transfer\n",
      "100%|██████████| 82/82 [01:20<00:00,  1.01it/s]\n"
     ]
    },
    {
     "name": "stdout",
     "output_type": "stream",
     "text": [
      "input points: 145602, selected points: 139434\n"
     ]
    },
    {
     "name": "stderr",
     "output_type": "stream",
     "text": [
      "FilterScript\n",
      "Reading filter with name Transfer Color: Face to Vertex\n",
      "Reading filter with name Poisson-disk Sampling\n",
      "Reading filter with name Vertex Attribute Transfer\n",
      "100%|██████████| 82/82 [01:27<00:00,  1.07s/it]\n"
     ]
    },
    {
     "name": "stdout",
     "output_type": "stream",
     "text": [
      "input points: 177535, selected points: 176637\n"
     ]
    },
    {
     "name": "stderr",
     "output_type": "stream",
     "text": [
      "FilterScript\n",
      "Reading filter with name Transfer Color: Face to Vertex\n",
      "Reading filter with name Poisson-disk Sampling\n",
      "Reading filter with name Vertex Attribute Transfer\n",
      "100%|██████████| 82/82 [00:32<00:00,  2.50it/s]\n"
     ]
    },
    {
     "name": "stdout",
     "output_type": "stream",
     "text": [
      "input points: 89616, selected points: 83205\n"
     ]
    },
    {
     "name": "stderr",
     "output_type": "stream",
     "text": [
      "FilterScript\n",
      "Reading filter with name Transfer Color: Face to Vertex\n",
      "Reading filter with name Poisson-disk Sampling\n",
      "Reading filter with name Vertex Attribute Transfer\n",
      "100%|██████████| 82/82 [00:34<00:00,  2.39it/s]\n"
     ]
    },
    {
     "name": "stdout",
     "output_type": "stream",
     "text": [
      "input points: 91151, selected points: 84541\n"
     ]
    },
    {
     "name": "stderr",
     "output_type": "stream",
     "text": [
      "FilterScript\n",
      "Reading filter with name Transfer Color: Face to Vertex\n",
      "Reading filter with name Poisson-disk Sampling\n",
      "Reading filter with name Vertex Attribute Transfer\n",
      "100%|██████████| 82/82 [00:35<00:00,  2.34it/s]\n"
     ]
    },
    {
     "name": "stdout",
     "output_type": "stream",
     "text": [
      "input points: 92130, selected points: 79410\n"
     ]
    },
    {
     "name": "stderr",
     "output_type": "stream",
     "text": [
      "FilterScript\n",
      "Reading filter with name Transfer Color: Face to Vertex\n",
      "Reading filter with name Poisson-disk Sampling\n",
      "Reading filter with name Vertex Attribute Transfer\n",
      "100%|██████████| 82/82 [00:37<00:00,  2.17it/s]\n"
     ]
    },
    {
     "name": "stdout",
     "output_type": "stream",
     "text": [
      "input points: 92137, selected points: 91234\n"
     ]
    },
    {
     "name": "stderr",
     "output_type": "stream",
     "text": [
      "FilterScript\n",
      "Reading filter with name Transfer Color: Face to Vertex\n",
      "Reading filter with name Poisson-disk Sampling\n",
      "Reading filter with name Vertex Attribute Transfer\n",
      "100%|██████████| 82/82 [01:06<00:00,  1.24it/s]\n"
     ]
    },
    {
     "name": "stdout",
     "output_type": "stream",
     "text": [
      "input points: 91164, selected points: 88834\n"
     ]
    },
    {
     "name": "stderr",
     "output_type": "stream",
     "text": [
      "FilterScript\n",
      "Reading filter with name Transfer Color: Face to Vertex\n",
      "Reading filter with name Poisson-disk Sampling\n",
      "Reading filter with name Vertex Attribute Transfer\n",
      "100%|██████████| 82/82 [00:38<00:00,  2.12it/s]\n"
     ]
    },
    {
     "name": "stdout",
     "output_type": "stream",
     "text": [
      "input points: 90630, selected points: 86123\n"
     ]
    },
    {
     "name": "stderr",
     "output_type": "stream",
     "text": [
      "FilterScript\n",
      "Reading filter with name Transfer Color: Face to Vertex\n",
      "Reading filter with name Poisson-disk Sampling\n",
      "Reading filter with name Vertex Attribute Transfer\n",
      "100%|██████████| 82/82 [00:28<00:00,  2.84it/s]\n"
     ]
    },
    {
     "name": "stdout",
     "output_type": "stream",
     "text": [
      "input points: 85604, selected points: 63060\n"
     ]
    },
    {
     "name": "stderr",
     "output_type": "stream",
     "text": [
      "FilterScript\n",
      "Reading filter with name Transfer Color: Face to Vertex\n",
      "Reading filter with name Poisson-disk Sampling\n",
      "Reading filter with name Vertex Attribute Transfer\n",
      "100%|██████████| 82/82 [00:37<00:00,  2.18it/s]\n"
     ]
    },
    {
     "name": "stdout",
     "output_type": "stream",
     "text": [
      "input points: 107566, selected points: 85282\n"
     ]
    },
    {
     "name": "stderr",
     "output_type": "stream",
     "text": [
      "FilterScript\n",
      "Reading filter with name Transfer Color: Face to Vertex\n",
      "Reading filter with name Poisson-disk Sampling\n",
      "Reading filter with name Vertex Attribute Transfer\n",
      "100%|██████████| 82/82 [00:28<00:00,  2.84it/s]\n"
     ]
    },
    {
     "name": "stdout",
     "output_type": "stream",
     "text": [
      "input points: 88484, selected points: 61306\n"
     ]
    },
    {
     "name": "stderr",
     "output_type": "stream",
     "text": [
      "FilterScript\n",
      "Reading filter with name Transfer Color: Face to Vertex\n",
      "Reading filter with name Poisson-disk Sampling\n",
      "Reading filter with name Vertex Attribute Transfer\n",
      "100%|██████████| 82/82 [00:31<00:00,  2.58it/s]\n"
     ]
    },
    {
     "name": "stdout",
     "output_type": "stream",
     "text": [
      "input points: 89758, selected points: 78997\n"
     ]
    },
    {
     "name": "stderr",
     "output_type": "stream",
     "text": [
      "FilterScript\n",
      "Reading filter with name Transfer Color: Face to Vertex\n",
      "Reading filter with name Poisson-disk Sampling\n",
      "Reading filter with name Vertex Attribute Transfer\n",
      "100%|██████████| 82/82 [00:33<00:00,  2.43it/s]\n"
     ]
    },
    {
     "name": "stdout",
     "output_type": "stream",
     "text": [
      "input points: 90800, selected points: 80466\n"
     ]
    },
    {
     "name": "stderr",
     "output_type": "stream",
     "text": [
      "FilterScript\n",
      "Reading filter with name Transfer Color: Face to Vertex\n",
      "Reading filter with name Poisson-disk Sampling\n",
      "Reading filter with name Vertex Attribute Transfer\n",
      "100%|██████████| 82/82 [00:52<00:00,  1.56it/s]\n"
     ]
    },
    {
     "name": "stdout",
     "output_type": "stream",
     "text": [
      "input points: 91529, selected points: 87535\n"
     ]
    },
    {
     "name": "stderr",
     "output_type": "stream",
     "text": [
      "FilterScript\n",
      "Reading filter with name Transfer Color: Face to Vertex\n",
      "Reading filter with name Poisson-disk Sampling\n",
      "Reading filter with name Vertex Attribute Transfer\n",
      "100%|██████████| 82/82 [00:30<00:00,  2.66it/s]\n"
     ]
    },
    {
     "name": "stdout",
     "output_type": "stream",
     "text": [
      "input points: 88339, selected points: 82304\n"
     ]
    },
    {
     "name": "stderr",
     "output_type": "stream",
     "text": [
      "FilterScript\n",
      "Reading filter with name Transfer Color: Face to Vertex\n",
      "Reading filter with name Poisson-disk Sampling\n",
      "Reading filter with name Vertex Attribute Transfer\n",
      "100%|██████████| 82/82 [00:35<00:00,  2.34it/s]\n"
     ]
    },
    {
     "name": "stdout",
     "output_type": "stream",
     "text": [
      "input points: 92283, selected points: 91244\n"
     ]
    },
    {
     "name": "stderr",
     "output_type": "stream",
     "text": [
      "FilterScript\n",
      "Reading filter with name Transfer Color: Face to Vertex\n",
      "Reading filter with name Poisson-disk Sampling\n",
      "Reading filter with name Vertex Attribute Transfer\n",
      "100%|██████████| 82/82 [00:24<00:00,  3.29it/s]\n"
     ]
    },
    {
     "name": "stdout",
     "output_type": "stream",
     "text": [
      "input points: 88352, selected points: 77472\n"
     ]
    },
    {
     "name": "stderr",
     "output_type": "stream",
     "text": [
      "FilterScript\n",
      "Reading filter with name Transfer Color: Face to Vertex\n",
      "Reading filter with name Poisson-disk Sampling\n",
      "Reading filter with name Vertex Attribute Transfer\n",
      "100%|██████████| 82/82 [00:29<00:00,  2.81it/s]\n"
     ]
    },
    {
     "name": "stdout",
     "output_type": "stream",
     "text": [
      "input points: 87178, selected points: 79317\n"
     ]
    },
    {
     "name": "stderr",
     "output_type": "stream",
     "text": [
      "FilterScript\n",
      "Reading filter with name Transfer Color: Face to Vertex\n",
      "Reading filter with name Poisson-disk Sampling\n",
      "Reading filter with name Vertex Attribute Transfer\n",
      "100%|██████████| 82/82 [00:29<00:00,  2.78it/s]\n"
     ]
    },
    {
     "name": "stdout",
     "output_type": "stream",
     "text": [
      "input points: 91256, selected points: 72268\n"
     ]
    },
    {
     "name": "stderr",
     "output_type": "stream",
     "text": [
      "FilterScript\n",
      "Reading filter with name Transfer Color: Face to Vertex\n",
      "Reading filter with name Poisson-disk Sampling\n",
      "Reading filter with name Vertex Attribute Transfer\n",
      "100%|██████████| 82/82 [00:32<00:00,  2.49it/s]\n"
     ]
    },
    {
     "name": "stdout",
     "output_type": "stream",
     "text": [
      "input points: 92075, selected points: 90747\n"
     ]
    },
    {
     "name": "stderr",
     "output_type": "stream",
     "text": [
      "FilterScript\n",
      "Reading filter with name Transfer Color: Face to Vertex\n",
      "Reading filter with name Poisson-disk Sampling\n",
      "Reading filter with name Vertex Attribute Transfer\n",
      "100%|██████████| 82/82 [00:27<00:00,  3.00it/s]\n"
     ]
    },
    {
     "name": "stdout",
     "output_type": "stream",
     "text": [
      "input points: 89634, selected points: 64554\n"
     ]
    },
    {
     "name": "stderr",
     "output_type": "stream",
     "text": [
      "FilterScript\n",
      "Reading filter with name Transfer Color: Face to Vertex\n",
      "Reading filter with name Poisson-disk Sampling\n",
      "Reading filter with name Vertex Attribute Transfer\n",
      "100%|██████████| 82/82 [00:21<00:00,  3.77it/s]\n"
     ]
    },
    {
     "name": "stdout",
     "output_type": "stream",
     "text": [
      "input points: 79905, selected points: 63009\n"
     ]
    },
    {
     "name": "stderr",
     "output_type": "stream",
     "text": [
      "FilterScript\n",
      "Reading filter with name Transfer Color: Face to Vertex\n",
      "Reading filter with name Poisson-disk Sampling\n",
      "Reading filter with name Vertex Attribute Transfer\n",
      "100%|██████████| 82/82 [00:32<00:00,  2.52it/s]\n"
     ]
    },
    {
     "name": "stdout",
     "output_type": "stream",
     "text": [
      "input points: 91399, selected points: 87302\n"
     ]
    },
    {
     "name": "stderr",
     "output_type": "stream",
     "text": [
      "FilterScript\n",
      "Reading filter with name Transfer Color: Face to Vertex\n",
      "Reading filter with name Poisson-disk Sampling\n",
      "Reading filter with name Vertex Attribute Transfer\n",
      "100%|██████████| 82/82 [00:25<00:00,  3.25it/s]\n"
     ]
    },
    {
     "name": "stdout",
     "output_type": "stream",
     "text": [
      "input points: 88453, selected points: 66462\n"
     ]
    },
    {
     "name": "stderr",
     "output_type": "stream",
     "text": [
      "FilterScript\n",
      "Reading filter with name Transfer Color: Face to Vertex\n",
      "Reading filter with name Poisson-disk Sampling\n",
      "Reading filter with name Vertex Attribute Transfer\n",
      "100%|██████████| 82/82 [00:34<00:00,  2.41it/s]\n"
     ]
    },
    {
     "name": "stdout",
     "output_type": "stream",
     "text": [
      "input points: 91634, selected points: 88768\n"
     ]
    },
    {
     "name": "stderr",
     "output_type": "stream",
     "text": [
      "FilterScript\n",
      "Reading filter with name Transfer Color: Face to Vertex\n",
      "Reading filter with name Poisson-disk Sampling\n",
      "Reading filter with name Vertex Attribute Transfer\n",
      "100%|██████████| 82/82 [00:17<00:00,  4.82it/s]\n"
     ]
    },
    {
     "name": "stdout",
     "output_type": "stream",
     "text": [
      "input points: 72222, selected points: 55305\n"
     ]
    },
    {
     "name": "stderr",
     "output_type": "stream",
     "text": [
      "FilterScript\n",
      "Reading filter with name Transfer Color: Face to Vertex\n",
      "Reading filter with name Poisson-disk Sampling\n",
      "Reading filter with name Vertex Attribute Transfer\n",
      "100%|██████████| 82/82 [00:44<00:00,  1.84it/s]\n"
     ]
    },
    {
     "name": "stdout",
     "output_type": "stream",
     "text": [
      "input points: 92055, selected points: 88520\n"
     ]
    },
    {
     "name": "stderr",
     "output_type": "stream",
     "text": [
      "FilterScript\n",
      "Reading filter with name Transfer Color: Face to Vertex\n",
      "Reading filter with name Poisson-disk Sampling\n",
      "Reading filter with name Vertex Attribute Transfer\n",
      "100%|██████████| 82/82 [00:20<00:00,  3.91it/s]\n"
     ]
    },
    {
     "name": "stdout",
     "output_type": "stream",
     "text": [
      "input points: 85080, selected points: 58543\n"
     ]
    },
    {
     "name": "stderr",
     "output_type": "stream",
     "text": [
      "FilterScript\n",
      "Reading filter with name Transfer Color: Face to Vertex\n",
      "Reading filter with name Poisson-disk Sampling\n",
      "Reading filter with name Vertex Attribute Transfer\n",
      "100%|██████████| 82/82 [00:37<00:00,  2.16it/s]\n"
     ]
    },
    {
     "name": "stdout",
     "output_type": "stream",
     "text": [
      "input points: 86578, selected points: 79195\n"
     ]
    },
    {
     "name": "stderr",
     "output_type": "stream",
     "text": [
      "FilterScript\n",
      "Reading filter with name Transfer Color: Face to Vertex\n",
      "Reading filter with name Poisson-disk Sampling\n",
      "Reading filter with name Vertex Attribute Transfer\n",
      "100%|██████████| 82/82 [00:16<00:00,  4.89it/s]\n"
     ]
    },
    {
     "name": "stdout",
     "output_type": "stream",
     "text": [
      "input points: 84881, selected points: 55758\n"
     ]
    },
    {
     "name": "stderr",
     "output_type": "stream",
     "text": [
      "FilterScript\n",
      "Reading filter with name Transfer Color: Face to Vertex\n",
      "Reading filter with name Poisson-disk Sampling\n",
      "Reading filter with name Vertex Attribute Transfer\n",
      "100%|██████████| 82/82 [00:23<00:00,  3.44it/s]\n"
     ]
    },
    {
     "name": "stdout",
     "output_type": "stream",
     "text": [
      "input points: 82212, selected points: 55555\n"
     ]
    },
    {
     "name": "stderr",
     "output_type": "stream",
     "text": [
      "FilterScript\n",
      "Reading filter with name Transfer Color: Face to Vertex\n",
      "Reading filter with name Poisson-disk Sampling\n",
      "Reading filter with name Vertex Attribute Transfer\n",
      "100%|██████████| 82/82 [00:30<00:00,  2.73it/s]\n"
     ]
    },
    {
     "name": "stdout",
     "output_type": "stream",
     "text": [
      "input points: 91623, selected points: 73333\n"
     ]
    },
    {
     "name": "stderr",
     "output_type": "stream",
     "text": [
      "FilterScript\n",
      "Reading filter with name Transfer Color: Face to Vertex\n",
      "Reading filter with name Poisson-disk Sampling\n",
      "Reading filter with name Vertex Attribute Transfer\n",
      "100%|██████████| 82/82 [00:13<00:00,  6.02it/s]\n"
     ]
    },
    {
     "name": "stdout",
     "output_type": "stream",
     "text": [
      "input points: 70461, selected points: 34629\n"
     ]
    },
    {
     "name": "stderr",
     "output_type": "stream",
     "text": [
      "FilterScript\n",
      "Reading filter with name Transfer Color: Face to Vertex\n",
      "Reading filter with name Poisson-disk Sampling\n",
      "Reading filter with name Vertex Attribute Transfer\n",
      "100%|██████████| 82/82 [01:12<00:00,  1.13it/s]\n"
     ]
    },
    {
     "name": "stdout",
     "output_type": "stream",
     "text": [
      "input points: 170479, selected points: 169777\n"
     ]
    },
    {
     "name": "stderr",
     "output_type": "stream",
     "text": [
      "FilterScript\n",
      "Reading filter with name Transfer Color: Face to Vertex\n",
      "Reading filter with name Poisson-disk Sampling\n",
      "Reading filter with name Vertex Attribute Transfer\n",
      "100%|██████████| 82/82 [00:20<00:00,  3.99it/s]\n"
     ]
    },
    {
     "name": "stdout",
     "output_type": "stream",
     "text": [
      "input points: 80234, selected points: 64416\n"
     ]
    },
    {
     "name": "stderr",
     "output_type": "stream",
     "text": [
      "FilterScript\n",
      "Reading filter with name Transfer Color: Face to Vertex\n",
      "Reading filter with name Poisson-disk Sampling\n",
      "Reading filter with name Vertex Attribute Transfer\n",
      "100%|██████████| 82/82 [00:29<00:00,  2.82it/s]\n"
     ]
    },
    {
     "name": "stdout",
     "output_type": "stream",
     "text": [
      "input points: 91325, selected points: 88426\n"
     ]
    },
    {
     "name": "stderr",
     "output_type": "stream",
     "text": [
      "FilterScript\n",
      "Reading filter with name Transfer Color: Face to Vertex\n",
      "Reading filter with name Poisson-disk Sampling\n",
      "Reading filter with name Vertex Attribute Transfer\n",
      "100%|██████████| 82/82 [00:31<00:00,  2.57it/s]\n"
     ]
    },
    {
     "name": "stdout",
     "output_type": "stream",
     "text": [
      "input points: 91555, selected points: 87241\n"
     ]
    },
    {
     "name": "stderr",
     "output_type": "stream",
     "text": [
      "FilterScript\n",
      "Reading filter with name Transfer Color: Face to Vertex\n",
      "Reading filter with name Poisson-disk Sampling\n",
      "Reading filter with name Vertex Attribute Transfer\n",
      "100%|██████████| 82/82 [00:18<00:00,  4.49it/s]\n"
     ]
    },
    {
     "name": "stdout",
     "output_type": "stream",
     "text": [
      "input points: 71334, selected points: 63129\n"
     ]
    },
    {
     "name": "stderr",
     "output_type": "stream",
     "text": [
      "FilterScript\n",
      "Reading filter with name Transfer Color: Face to Vertex\n",
      "Reading filter with name Poisson-disk Sampling\n",
      "Reading filter with name Vertex Attribute Transfer\n",
      "100%|██████████| 82/82 [00:25<00:00,  3.16it/s]\n"
     ]
    },
    {
     "name": "stdout",
     "output_type": "stream",
     "text": [
      "input points: 90244, selected points: 82836\n"
     ]
    },
    {
     "name": "stderr",
     "output_type": "stream",
     "text": [
      "FilterScript\n",
      "Reading filter with name Transfer Color: Face to Vertex\n",
      "Reading filter with name Poisson-disk Sampling\n",
      "Reading filter with name Vertex Attribute Transfer\n",
      "100%|██████████| 82/82 [00:24<00:00,  3.35it/s]\n"
     ]
    },
    {
     "name": "stdout",
     "output_type": "stream",
     "text": [
      "input points: 90206, selected points: 80657\n"
     ]
    },
    {
     "name": "stderr",
     "output_type": "stream",
     "text": [
      "FilterScript\n",
      "Reading filter with name Transfer Color: Face to Vertex\n",
      "Reading filter with name Poisson-disk Sampling\n",
      "Reading filter with name Vertex Attribute Transfer\n",
      "100%|██████████| 82/82 [00:25<00:00,  3.19it/s]\n"
     ]
    },
    {
     "name": "stdout",
     "output_type": "stream",
     "text": [
      "input points: 88156, selected points: 72672\n"
     ]
    },
    {
     "name": "stderr",
     "output_type": "stream",
     "text": [
      "FilterScript\n",
      "Reading filter with name Transfer Color: Face to Vertex\n",
      "Reading filter with name Poisson-disk Sampling\n",
      "Reading filter with name Vertex Attribute Transfer\n",
      "100%|██████████| 82/82 [00:22<00:00,  3.58it/s]\n"
     ]
    },
    {
     "name": "stdout",
     "output_type": "stream",
     "text": [
      "input points: 91293, selected points: 77781\n"
     ]
    }
   ],
   "source": [
    "import pymeshlab,os\n",
    "# allfiles = os.listdir('/mnt/d/junch_data/AtlasNet/02958343')\n",
    "for i in range(0, 100):\n",
    "    fp = allcarfoldersnew[i]\n",
    "    ms = pymeshlab.MeshSet()\n",
    "    ms.load_new_mesh(os.path.join('/mnt/d/junch_data/AtlasNet/03001627',fp,'models/model_normalized.obj'))\n",
    "    ms.load_filter_script('/mnt/d/junch_data/AtlasNet/proc.mlx')\n",
    "    ms.apply_filter_script()\n",
    "    ms.save_current_mesh('result1.ply')\n",
    "    pcd = o3d.io.read_point_cloud(\"result1.ply\")\n",
    "    xyz = np.asarray(pcd.points)\n",
    "    rgb = np.asarray(pcd.colors)\n",
    "\n",
    "    xyz = bounding_box_normalization(xyz.astype(np.float32))\n",
    "    rgb = rgb[:, 0:3].astype(np.float32)\n",
    "    cam_pos = np.loadtxt('/mnt/d/junch_data/AtlasNet/cam_pos.xyz').astype(np.float32)\n",
    "\n",
    "    r = xyz.shape[0] * 0.005\n",
    "\n",
    "    vis_idx = []\n",
    "    for cid in tqdm(range(cam_pos.shape[0])):\n",
    "        x_v, y_v, z_v = cam_pos[cid, 0], cam_pos[cid, 1], cam_pos[cid, 2]\n",
    "        vis_idx.append(extract_visible_points(xyz, x_v, y_v, z_v, r)[0])\n",
    "    vis_idx = list(set(np.concatenate(vis_idx)))\n",
    "    print('input points: {}, selected points: {}'.format(xyz.shape[0], len(vis_idx)))\n",
    "    input_points = np.concatenate((xyz, rgb), axis=-1)\n",
    "    output_points = input_points[vis_idx]\n",
    "    save_pc_as_ply('p_all1.ply', input_points[:, 0:3], colors=input_points[:, 3:6])\n",
    "    save_pc_as_ply('p_vis1.ply', output_points[:, 0:3], colors=output_points[:, 3:6])\n",
    "    \n",
    "    pcd=o3d.io.read_point_cloud(\"p_vis1.ply\")\n",
    "    p=np.asarray(pcd.points)\n",
    "    idxes = farthest_point_sample(point=p)\n",
    "    \n",
    "    p=np.asarray(pcd.points)[idxes]\n",
    "    c=np.asarray(pcd.colors)[idxes]\n",
    "    s_p=os.path.join('/mnt/d/junch_data/diffusion_231019/all_chair_pointcloud_vis',fp+'.ply')\n",
    "    save_pc_as_ply(s_p,p,c)"
   ]
  }
 ],
 "metadata": {
  "kernelspec": {
   "display_name": "fyp-linux",
   "language": "python",
   "name": "python3"
  },
  "language_info": {
   "codemirror_mode": {
    "name": "ipython",
    "version": 3
   },
   "file_extension": ".py",
   "mimetype": "text/x-python",
   "name": "python",
   "nbconvert_exporter": "python",
   "pygments_lexer": "ipython3",
   "version": "3.9.18"
  }
 },
 "nbformat": 4,
 "nbformat_minor": 2
}
