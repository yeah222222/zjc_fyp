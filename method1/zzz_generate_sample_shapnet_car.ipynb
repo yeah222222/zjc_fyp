{
 "cells": [
  {
   "cell_type": "code",
   "execution_count": 15,
   "metadata": {},
   "outputs": [],
   "source": [
    "import torch\n",
    "import numpy as np\n",
    "import open3d as o3d\n",
    "from tqdm import tqdm\n",
    "import point_cloud_utils as pcu\n",
    "\n",
    "\n",
    "def extract_visible_points(points, x_v, y_v, z_v, r):\n",
    "    num_complete = points.shape[0]\n",
    "    pcd = o3d.geometry.PointCloud()\n",
    "    pcd.points = o3d.utility.Vector3dVector(points)\n",
    "    cam_pos = [x_v, y_v, z_v]\n",
    "    _, pt_map = pcd.hidden_point_removal(cam_pos, r)\n",
    "    pcd_vis = pcd.select_by_index(pt_map)\n",
    "    points_vis = np.asarray(pcd_vis.points).astype(np.float32)\n",
    "    indices_vis = np.asarray(pt_map)\n",
    "    return indices_vis, points_vis\n",
    "\n",
    "\n",
    "def save_pc_as_ply(save_path, points, colors=None, normals=None):\n",
    "    assert save_path[-3:] == 'ply', 'not .ply file'\n",
    "    if type(points) == torch.Tensor:\n",
    "        points = np.asarray(points.detach().cpu())\n",
    "    pcd = o3d.geometry.PointCloud()\n",
    "    pcd.points = o3d.utility.Vector3dVector(points)\n",
    "    if colors is not None:\n",
    "        if type(colors) == torch.Tensor:\n",
    "            colors = np.asarray(colors.detach().cpu())\n",
    "        assert colors.min()>=0 and colors.max()<=1\n",
    "        pcd.colors = o3d.utility.Vector3dVector(colors) # should be within the range of [0, 1]\n",
    "    if normals is not None:\n",
    "        if type(normals) == torch.Tensor:\n",
    "            normals = np.asarray(normals.detach().cpu())\n",
    "        pcd.normals = o3d.utility.Vector3dVector(normals)\n",
    "    o3d.io.write_point_cloud(save_path, pcd, write_ascii=True) # should be saved as .ply file\n",
    "\n",
    "\n",
    "def bounding_box_normalization(pc):\n",
    "    # pc: (num_points, num_channels)\n",
    "    # pc_normalized: (num_points, num_channels)\n",
    "    num_points, num_channels = pc.shape\n",
    "    xyz = pc[:, 0:3]\n",
    "    attr = pc[:, 3:]\n",
    "    xyz = xyz - (np.min(xyz, axis=0) + np.max(xyz, axis=0))/2\n",
    "    max_d = np.max(np.sqrt(np.abs(np.sum(xyz**2, axis=1)))) # a scalar\n",
    "    xyz_normalized = xyz / max_d\n",
    "    pc_normalized = np.concatenate((xyz_normalized, attr), axis=1)\n",
    "    return pc_normalized\n",
    "\n",
    "def farthest_point_sample(point, npoint=8192):\n",
    "    \"\"\"\n",
    "    Input:\n",
    "        xyz: pointcloud data, [N, D]\n",
    "        npoint: number of samples\n",
    "    Return:\n",
    "        centroids: sampled pointcloud index, [npoint, D]\n",
    "    \"\"\"\n",
    "    N, D = point.shape\n",
    "    xyz = point[:,:3]\n",
    "    centroids = np.zeros((npoint,))\n",
    "    distance = np.ones((N,)) * 1e10\n",
    "    farthest = np.random.randint(0, N)\n",
    "    for i in range(npoint):\n",
    "        centroids[i] = farthest\n",
    "        centroid = xyz[farthest, :]\n",
    "        dist = np.sum((xyz - centroid) ** 2, -1)\n",
    "        mask = dist < distance\n",
    "        distance[mask] = dist[mask]\n",
    "        farthest = np.argmax(distance, -1)\n",
    "    return centroids.astype(np.int32)"
   ]
  },
  {
   "cell_type": "code",
   "execution_count": 16,
   "metadata": {},
   "outputs": [],
   "source": [
    "import os,sys\n",
    "allcarfolders = os.listdir('/mnt/d/junch_data/diffusion_231019/all_car_30')\n",
    "allcarfoldersnew=[]\n",
    "for r in allcarfolders:\n",
    "    allcarfoldersnew.append(r.split('_')[0])\n",
    "allcarfoldersnew = sorted(allcarfoldersnew)"
   ]
  },
  {
   "cell_type": "code",
   "execution_count": 17,
   "metadata": {},
   "outputs": [
    {
     "name": "stderr",
     "output_type": "stream",
     "text": [
      "FilterScript\n",
      "Reading filter with name Transfer Color: Face to Vertex\n",
      "Reading filter with name Poisson-disk Sampling\n",
      "Reading filter with name Vertex Attribute Transfer\n",
      "100%|██████████| 82/82 [00:08<00:00,  9.48it/s]\n"
     ]
    },
    {
     "name": "stdout",
     "output_type": "stream",
     "text": [
      "input points: 82958, selected points: 33634\n"
     ]
    },
    {
     "name": "stderr",
     "output_type": "stream",
     "text": [
      "FilterScript\n",
      "Reading filter with name Transfer Color: Face to Vertex\n",
      "Reading filter with name Poisson-disk Sampling\n",
      "Reading filter with name Vertex Attribute Transfer\n",
      "100%|██████████| 82/82 [00:06<00:00, 11.80it/s]\n"
     ]
    },
    {
     "name": "stdout",
     "output_type": "stream",
     "text": [
      "input points: 71170, selected points: 32852\n"
     ]
    },
    {
     "name": "stderr",
     "output_type": "stream",
     "text": [
      "FilterScript\n",
      "Reading filter with name Transfer Color: Face to Vertex\n",
      "Reading filter with name Poisson-disk Sampling\n",
      "Reading filter with name Vertex Attribute Transfer\n",
      "100%|██████████| 82/82 [00:11<00:00,  7.03it/s]\n"
     ]
    },
    {
     "name": "stdout",
     "output_type": "stream",
     "text": [
      "input points: 81875, selected points: 41378\n"
     ]
    },
    {
     "name": "stderr",
     "output_type": "stream",
     "text": [
      "FilterScript\n",
      "Reading filter with name Transfer Color: Face to Vertex\n",
      "Reading filter with name Poisson-disk Sampling\n",
      "Reading filter with name Vertex Attribute Transfer\n",
      "100%|██████████| 82/82 [00:13<00:00,  6.12it/s]\n"
     ]
    },
    {
     "name": "stdout",
     "output_type": "stream",
     "text": [
      "input points: 89487, selected points: 37279\n"
     ]
    },
    {
     "name": "stderr",
     "output_type": "stream",
     "text": [
      "FilterScript\n",
      "Reading filter with name Transfer Color: Face to Vertex\n",
      "Reading filter with name Poisson-disk Sampling\n",
      "Reading filter with name Vertex Attribute Transfer\n",
      "100%|██████████| 82/82 [00:11<00:00,  6.92it/s]\n"
     ]
    },
    {
     "name": "stdout",
     "output_type": "stream",
     "text": [
      "input points: 80330, selected points: 40125\n"
     ]
    },
    {
     "name": "stderr",
     "output_type": "stream",
     "text": [
      "FilterScript\n",
      "Reading filter with name Transfer Color: Face to Vertex\n",
      "Reading filter with name Poisson-disk Sampling\n",
      "Reading filter with name Vertex Attribute Transfer\n",
      "100%|██████████| 82/82 [00:33<00:00,  2.46it/s]\n"
     ]
    },
    {
     "name": "stdout",
     "output_type": "stream",
     "text": [
      "input points: 144903, selected points: 98648\n"
     ]
    },
    {
     "name": "stderr",
     "output_type": "stream",
     "text": [
      "FilterScript\n",
      "Reading filter with name Transfer Color: Face to Vertex\n",
      "Reading filter with name Poisson-disk Sampling\n",
      "Reading filter with name Vertex Attribute Transfer\n",
      "100%|██████████| 82/82 [00:23<00:00,  3.56it/s]\n"
     ]
    },
    {
     "name": "stdout",
     "output_type": "stream",
     "text": [
      "input points: 113825, selected points: 57122\n"
     ]
    },
    {
     "name": "stderr",
     "output_type": "stream",
     "text": [
      "FilterScript\n",
      "Reading filter with name Transfer Color: Face to Vertex\n",
      "Reading filter with name Poisson-disk Sampling\n",
      "Reading filter with name Vertex Attribute Transfer\n",
      "100%|██████████| 82/82 [00:18<00:00,  4.53it/s]\n"
     ]
    },
    {
     "name": "stdout",
     "output_type": "stream",
     "text": [
      "input points: 87030, selected points: 62313\n"
     ]
    },
    {
     "name": "stderr",
     "output_type": "stream",
     "text": [
      "FilterScript\n",
      "Reading filter with name Transfer Color: Face to Vertex\n",
      "Reading filter with name Poisson-disk Sampling\n",
      "Reading filter with name Vertex Attribute Transfer\n",
      "100%|██████████| 82/82 [00:08<00:00,  9.65it/s]\n"
     ]
    },
    {
     "name": "stdout",
     "output_type": "stream",
     "text": [
      "input points: 69412, selected points: 22040\n"
     ]
    },
    {
     "name": "stderr",
     "output_type": "stream",
     "text": [
      "FilterScript\n",
      "Reading filter with name Transfer Color: Face to Vertex\n",
      "Reading filter with name Poisson-disk Sampling\n",
      "Reading filter with name Vertex Attribute Transfer\n",
      "100%|██████████| 82/82 [00:19<00:00,  4.13it/s]\n"
     ]
    },
    {
     "name": "stdout",
     "output_type": "stream",
     "text": [
      "input points: 90307, selected points: 68778\n"
     ]
    },
    {
     "name": "stderr",
     "output_type": "stream",
     "text": [
      "FilterScript\n",
      "Reading filter with name Transfer Color: Face to Vertex\n",
      "Reading filter with name Poisson-disk Sampling\n",
      "Reading filter with name Vertex Attribute Transfer\n",
      "100%|██████████| 82/82 [00:20<00:00,  4.03it/s]\n"
     ]
    },
    {
     "name": "stdout",
     "output_type": "stream",
     "text": [
      "input points: 105113, selected points: 77705\n"
     ]
    },
    {
     "name": "stderr",
     "output_type": "stream",
     "text": [
      "FilterScript\n",
      "Reading filter with name Transfer Color: Face to Vertex\n",
      "Reading filter with name Poisson-disk Sampling\n",
      "Reading filter with name Vertex Attribute Transfer\n",
      "100%|██████████| 82/82 [00:13<00:00,  5.86it/s]\n"
     ]
    },
    {
     "name": "stdout",
     "output_type": "stream",
     "text": [
      "input points: 83289, selected points: 51908\n"
     ]
    },
    {
     "name": "stderr",
     "output_type": "stream",
     "text": [
      "FilterScript\n",
      "Reading filter with name Transfer Color: Face to Vertex\n",
      "Reading filter with name Poisson-disk Sampling\n",
      "Reading filter with name Vertex Attribute Transfer\n",
      "100%|██████████| 82/82 [00:14<00:00,  5.64it/s]\n"
     ]
    },
    {
     "name": "stdout",
     "output_type": "stream",
     "text": [
      "input points: 83058, selected points: 60770\n"
     ]
    },
    {
     "name": "stderr",
     "output_type": "stream",
     "text": [
      "FilterScript\n",
      "Reading filter with name Transfer Color: Face to Vertex\n",
      "Reading filter with name Poisson-disk Sampling\n",
      "Reading filter with name Vertex Attribute Transfer\n",
      "100%|██████████| 82/82 [00:14<00:00,  5.68it/s]\n"
     ]
    },
    {
     "name": "stdout",
     "output_type": "stream",
     "text": [
      "input points: 87826, selected points: 46191\n"
     ]
    },
    {
     "name": "stderr",
     "output_type": "stream",
     "text": [
      "FilterScript\n",
      "Reading filter with name Transfer Color: Face to Vertex\n",
      "Reading filter with name Poisson-disk Sampling\n",
      "Reading filter with name Vertex Attribute Transfer\n",
      "100%|██████████| 82/82 [00:15<00:00,  5.33it/s]\n"
     ]
    },
    {
     "name": "stdout",
     "output_type": "stream",
     "text": [
      "input points: 97825, selected points: 41356\n"
     ]
    },
    {
     "name": "stderr",
     "output_type": "stream",
     "text": [
      "FilterScript\n",
      "Reading filter with name Transfer Color: Face to Vertex\n",
      "Reading filter with name Poisson-disk Sampling\n",
      "Reading filter with name Vertex Attribute Transfer\n",
      "100%|██████████| 82/82 [00:12<00:00,  6.65it/s]\n"
     ]
    },
    {
     "name": "stdout",
     "output_type": "stream",
     "text": [
      "input points: 78585, selected points: 42604\n"
     ]
    },
    {
     "name": "stderr",
     "output_type": "stream",
     "text": [
      "FilterScript\n",
      "Reading filter with name Transfer Color: Face to Vertex\n",
      "Reading filter with name Poisson-disk Sampling\n",
      "Reading filter with name Vertex Attribute Transfer\n",
      "100%|██████████| 82/82 [00:10<00:00,  7.58it/s]\n"
     ]
    },
    {
     "name": "stdout",
     "output_type": "stream",
     "text": [
      "input points: 79987, selected points: 33721\n"
     ]
    },
    {
     "name": "stderr",
     "output_type": "stream",
     "text": [
      "FilterScript\n",
      "Reading filter with name Transfer Color: Face to Vertex\n",
      "Reading filter with name Poisson-disk Sampling\n",
      "Reading filter with name Vertex Attribute Transfer\n",
      "100%|██████████| 82/82 [00:11<00:00,  7.25it/s]\n"
     ]
    },
    {
     "name": "stdout",
     "output_type": "stream",
     "text": [
      "input points: 79713, selected points: 31978\n"
     ]
    },
    {
     "name": "stderr",
     "output_type": "stream",
     "text": [
      "FilterScript\n",
      "Reading filter with name Transfer Color: Face to Vertex\n",
      "Reading filter with name Poisson-disk Sampling\n",
      "Reading filter with name Vertex Attribute Transfer\n",
      "100%|██████████| 82/82 [00:15<00:00,  5.42it/s]\n"
     ]
    },
    {
     "name": "stdout",
     "output_type": "stream",
     "text": [
      "input points: 89915, selected points: 58862\n"
     ]
    },
    {
     "name": "stderr",
     "output_type": "stream",
     "text": [
      "FilterScript\n",
      "Reading filter with name Transfer Color: Face to Vertex\n",
      "Reading filter with name Poisson-disk Sampling\n",
      "Reading filter with name Vertex Attribute Transfer\n",
      "100%|██████████| 82/82 [00:38<00:00,  2.15it/s]\n"
     ]
    },
    {
     "name": "stdout",
     "output_type": "stream",
     "text": [
      "input points: 169616, selected points: 85280\n"
     ]
    },
    {
     "name": "stderr",
     "output_type": "stream",
     "text": [
      "FilterScript\n",
      "Reading filter with name Transfer Color: Face to Vertex\n",
      "Reading filter with name Poisson-disk Sampling\n",
      "Reading filter with name Vertex Attribute Transfer\n",
      "100%|██████████| 82/82 [00:24<00:00,  3.36it/s]\n"
     ]
    },
    {
     "name": "stdout",
     "output_type": "stream",
     "text": [
      "input points: 88481, selected points: 70780\n"
     ]
    },
    {
     "name": "stderr",
     "output_type": "stream",
     "text": [
      "FilterScript\n",
      "Reading filter with name Transfer Color: Face to Vertex\n",
      "Reading filter with name Poisson-disk Sampling\n",
      "Reading filter with name Vertex Attribute Transfer\n",
      "100%|██████████| 82/82 [00:17<00:00,  4.74it/s]\n"
     ]
    },
    {
     "name": "stdout",
     "output_type": "stream",
     "text": [
      "input points: 91681, selected points: 41491\n"
     ]
    },
    {
     "name": "stderr",
     "output_type": "stream",
     "text": [
      "FilterScript\n",
      "Reading filter with name Transfer Color: Face to Vertex\n",
      "Reading filter with name Poisson-disk Sampling\n",
      "Reading filter with name Vertex Attribute Transfer\n",
      "100%|██████████| 82/82 [00:07<00:00, 10.27it/s]\n"
     ]
    },
    {
     "name": "stdout",
     "output_type": "stream",
     "text": [
      "input points: 58990, selected points: 25063\n"
     ]
    },
    {
     "name": "stderr",
     "output_type": "stream",
     "text": [
      "FilterScript\n",
      "Reading filter with name Transfer Color: Face to Vertex\n",
      "Reading filter with name Poisson-disk Sampling\n",
      "Reading filter with name Vertex Attribute Transfer\n",
      "100%|██████████| 82/82 [00:13<00:00,  5.89it/s]\n"
     ]
    },
    {
     "name": "stdout",
     "output_type": "stream",
     "text": [
      "input points: 79878, selected points: 33944\n"
     ]
    },
    {
     "name": "stderr",
     "output_type": "stream",
     "text": [
      "FilterScript\n",
      "Reading filter with name Transfer Color: Face to Vertex\n",
      "Reading filter with name Poisson-disk Sampling\n",
      "Reading filter with name Vertex Attribute Transfer\n",
      "100%|██████████| 82/82 [00:22<00:00,  3.60it/s]\n"
     ]
    },
    {
     "name": "stdout",
     "output_type": "stream",
     "text": [
      "input points: 102711, selected points: 64657\n"
     ]
    },
    {
     "name": "stderr",
     "output_type": "stream",
     "text": [
      "FilterScript\n",
      "Reading filter with name Transfer Color: Face to Vertex\n",
      "Reading filter with name Poisson-disk Sampling\n",
      "Reading filter with name Vertex Attribute Transfer\n",
      "100%|██████████| 82/82 [00:16<00:00,  5.05it/s]\n"
     ]
    },
    {
     "name": "stdout",
     "output_type": "stream",
     "text": [
      "input points: 78801, selected points: 48535\n"
     ]
    },
    {
     "name": "stderr",
     "output_type": "stream",
     "text": [
      "FilterScript\n",
      "Reading filter with name Transfer Color: Face to Vertex\n",
      "Reading filter with name Poisson-disk Sampling\n",
      "Reading filter with name Vertex Attribute Transfer\n",
      "100%|██████████| 82/82 [00:14<00:00,  5.70it/s]\n"
     ]
    },
    {
     "name": "stdout",
     "output_type": "stream",
     "text": [
      "input points: 79274, selected points: 44476\n"
     ]
    },
    {
     "name": "stderr",
     "output_type": "stream",
     "text": [
      "FilterScript\n",
      "Reading filter with name Transfer Color: Face to Vertex\n",
      "Reading filter with name Poisson-disk Sampling\n",
      "Reading filter with name Vertex Attribute Transfer\n",
      "100%|██████████| 82/82 [00:12<00:00,  6.49it/s]\n"
     ]
    },
    {
     "name": "stdout",
     "output_type": "stream",
     "text": [
      "input points: 81966, selected points: 37950\n"
     ]
    },
    {
     "name": "stderr",
     "output_type": "stream",
     "text": [
      "FilterScript\n",
      "Reading filter with name Transfer Color: Face to Vertex\n",
      "Reading filter with name Poisson-disk Sampling\n",
      "Reading filter with name Vertex Attribute Transfer\n",
      "100%|██████████| 82/82 [00:41<00:00,  2.00it/s]\n"
     ]
    },
    {
     "name": "stdout",
     "output_type": "stream",
     "text": [
      "input points: 163431, selected points: 120209\n"
     ]
    },
    {
     "name": "stderr",
     "output_type": "stream",
     "text": [
      "FilterScript\n",
      "Reading filter with name Transfer Color: Face to Vertex\n",
      "Reading filter with name Poisson-disk Sampling\n",
      "Reading filter with name Vertex Attribute Transfer\n",
      "100%|██████████| 82/82 [00:14<00:00,  5.50it/s]\n"
     ]
    },
    {
     "name": "stdout",
     "output_type": "stream",
     "text": [
      "input points: 89900, selected points: 43207\n"
     ]
    },
    {
     "name": "stderr",
     "output_type": "stream",
     "text": [
      "FilterScript\n",
      "Reading filter with name Transfer Color: Face to Vertex\n",
      "Reading filter with name Poisson-disk Sampling\n",
      "Reading filter with name Vertex Attribute Transfer\n",
      "100%|██████████| 82/82 [00:13<00:00,  6.07it/s]\n"
     ]
    },
    {
     "name": "stdout",
     "output_type": "stream",
     "text": [
      "input points: 84711, selected points: 43074\n"
     ]
    },
    {
     "name": "stderr",
     "output_type": "stream",
     "text": [
      "FilterScript\n",
      "Reading filter with name Transfer Color: Face to Vertex\n",
      "Reading filter with name Poisson-disk Sampling\n",
      "Reading filter with name Vertex Attribute Transfer\n",
      "100%|██████████| 82/82 [00:24<00:00,  3.34it/s]\n"
     ]
    },
    {
     "name": "stdout",
     "output_type": "stream",
     "text": [
      "input points: 111400, selected points: 59906\n"
     ]
    },
    {
     "name": "stderr",
     "output_type": "stream",
     "text": [
      "FilterScript\n",
      "Reading filter with name Transfer Color: Face to Vertex\n",
      "Reading filter with name Poisson-disk Sampling\n",
      "Reading filter with name Vertex Attribute Transfer\n",
      "100%|██████████| 82/82 [00:19<00:00,  4.26it/s]\n"
     ]
    },
    {
     "name": "stdout",
     "output_type": "stream",
     "text": [
      "input points: 105174, selected points: 40004\n"
     ]
    },
    {
     "name": "stderr",
     "output_type": "stream",
     "text": [
      "FilterScript\n",
      "Reading filter with name Transfer Color: Face to Vertex\n",
      "Reading filter with name Poisson-disk Sampling\n",
      "Reading filter with name Vertex Attribute Transfer\n",
      "100%|██████████| 82/82 [00:36<00:00,  2.24it/s]\n"
     ]
    },
    {
     "name": "stdout",
     "output_type": "stream",
     "text": [
      "input points: 161528, selected points: 82045\n"
     ]
    },
    {
     "name": "stderr",
     "output_type": "stream",
     "text": [
      "FilterScript\n",
      "Reading filter with name Transfer Color: Face to Vertex\n",
      "Reading filter with name Poisson-disk Sampling\n",
      "Reading filter with name Vertex Attribute Transfer\n",
      "100%|██████████| 82/82 [00:14<00:00,  5.79it/s]\n"
     ]
    },
    {
     "name": "stdout",
     "output_type": "stream",
     "text": [
      "input points: 87509, selected points: 47541\n"
     ]
    },
    {
     "name": "stderr",
     "output_type": "stream",
     "text": [
      "FilterScript\n",
      "Reading filter with name Transfer Color: Face to Vertex\n",
      "Reading filter with name Poisson-disk Sampling\n",
      "Reading filter with name Vertex Attribute Transfer\n",
      "100%|██████████| 82/82 [00:27<00:00,  3.03it/s]\n"
     ]
    },
    {
     "name": "stdout",
     "output_type": "stream",
     "text": [
      "input points: 129379, selected points: 65495\n"
     ]
    },
    {
     "name": "stderr",
     "output_type": "stream",
     "text": [
      "FilterScript\n",
      "Reading filter with name Transfer Color: Face to Vertex\n",
      "Reading filter with name Poisson-disk Sampling\n",
      "Reading filter with name Vertex Attribute Transfer\n",
      "100%|██████████| 82/82 [00:26<00:00,  3.13it/s]\n"
     ]
    },
    {
     "name": "stdout",
     "output_type": "stream",
     "text": [
      "input points: 89607, selected points: 68302\n"
     ]
    },
    {
     "name": "stderr",
     "output_type": "stream",
     "text": [
      "FilterScript\n",
      "Reading filter with name Transfer Color: Face to Vertex\n",
      "Reading filter with name Poisson-disk Sampling\n",
      "Reading filter with name Vertex Attribute Transfer\n",
      "100%|██████████| 82/82 [00:26<00:00,  3.11it/s]\n"
     ]
    },
    {
     "name": "stdout",
     "output_type": "stream",
     "text": [
      "input points: 94138, selected points: 74636\n"
     ]
    },
    {
     "name": "stderr",
     "output_type": "stream",
     "text": [
      "FilterScript\n",
      "Reading filter with name Transfer Color: Face to Vertex\n",
      "Reading filter with name Poisson-disk Sampling\n",
      "Reading filter with name Vertex Attribute Transfer\n",
      "100%|██████████| 82/82 [00:22<00:00,  3.70it/s]\n"
     ]
    },
    {
     "name": "stdout",
     "output_type": "stream",
     "text": [
      "input points: 124022, selected points: 59376\n"
     ]
    },
    {
     "name": "stderr",
     "output_type": "stream",
     "text": [
      "FilterScript\n",
      "Reading filter with name Transfer Color: Face to Vertex\n",
      "Reading filter with name Poisson-disk Sampling\n",
      "Reading filter with name Vertex Attribute Transfer\n",
      "100%|██████████| 82/82 [00:13<00:00,  5.96it/s]\n"
     ]
    },
    {
     "name": "stdout",
     "output_type": "stream",
     "text": [
      "input points: 82874, selected points: 37823\n"
     ]
    },
    {
     "name": "stderr",
     "output_type": "stream",
     "text": [
      "FilterScript\n",
      "Reading filter with name Transfer Color: Face to Vertex\n",
      "Reading filter with name Poisson-disk Sampling\n",
      "Reading filter with name Vertex Attribute Transfer\n",
      "100%|██████████| 82/82 [00:23<00:00,  3.49it/s]\n"
     ]
    },
    {
     "name": "stdout",
     "output_type": "stream",
     "text": [
      "input points: 89987, selected points: 75937\n"
     ]
    },
    {
     "name": "stderr",
     "output_type": "stream",
     "text": [
      "FilterScript\n",
      "Reading filter with name Transfer Color: Face to Vertex\n",
      "Reading filter with name Poisson-disk Sampling\n",
      "Reading filter with name Vertex Attribute Transfer\n",
      "100%|██████████| 82/82 [00:20<00:00,  3.98it/s]\n"
     ]
    },
    {
     "name": "stdout",
     "output_type": "stream",
     "text": [
      "input points: 96069, selected points: 63517\n"
     ]
    },
    {
     "name": "stderr",
     "output_type": "stream",
     "text": [
      "FilterScript\n",
      "Reading filter with name Transfer Color: Face to Vertex\n",
      "Reading filter with name Poisson-disk Sampling\n",
      "Reading filter with name Vertex Attribute Transfer\n",
      "100%|██████████| 82/82 [00:12<00:00,  6.58it/s]\n"
     ]
    },
    {
     "name": "stdout",
     "output_type": "stream",
     "text": [
      "input points: 74731, selected points: 33360\n"
     ]
    },
    {
     "name": "stderr",
     "output_type": "stream",
     "text": [
      "FilterScript\n",
      "Reading filter with name Transfer Color: Face to Vertex\n",
      "Reading filter with name Poisson-disk Sampling\n",
      "Reading filter with name Vertex Attribute Transfer\n",
      "100%|██████████| 82/82 [00:17<00:00,  4.66it/s]\n"
     ]
    },
    {
     "name": "stdout",
     "output_type": "stream",
     "text": [
      "input points: 89051, selected points: 47801\n"
     ]
    },
    {
     "name": "stderr",
     "output_type": "stream",
     "text": [
      "FilterScript\n",
      "Reading filter with name Transfer Color: Face to Vertex\n",
      "Reading filter with name Poisson-disk Sampling\n",
      "Reading filter with name Vertex Attribute Transfer\n",
      "100%|██████████| 82/82 [00:17<00:00,  4.72it/s]\n"
     ]
    },
    {
     "name": "stdout",
     "output_type": "stream",
     "text": [
      "input points: 79901, selected points: 57813\n"
     ]
    },
    {
     "name": "stderr",
     "output_type": "stream",
     "text": [
      "FilterScript\n",
      "Reading filter with name Transfer Color: Face to Vertex\n",
      "Reading filter with name Poisson-disk Sampling\n",
      "Reading filter with name Vertex Attribute Transfer\n",
      "100%|██████████| 82/82 [00:16<00:00,  4.84it/s]\n"
     ]
    },
    {
     "name": "stdout",
     "output_type": "stream",
     "text": [
      "input points: 87168, selected points: 42039\n"
     ]
    },
    {
     "name": "stderr",
     "output_type": "stream",
     "text": [
      "FilterScript\n",
      "Reading filter with name Transfer Color: Face to Vertex\n",
      "Reading filter with name Poisson-disk Sampling\n",
      "Reading filter with name Vertex Attribute Transfer\n",
      "100%|██████████| 82/82 [00:14<00:00,  5.47it/s]\n"
     ]
    },
    {
     "name": "stdout",
     "output_type": "stream",
     "text": [
      "input points: 81989, selected points: 40931\n"
     ]
    },
    {
     "name": "stderr",
     "output_type": "stream",
     "text": [
      "FilterScript\n",
      "Reading filter with name Transfer Color: Face to Vertex\n",
      "Reading filter with name Poisson-disk Sampling\n",
      "Reading filter with name Vertex Attribute Transfer\n",
      "100%|██████████| 82/82 [00:19<00:00,  4.21it/s]\n"
     ]
    },
    {
     "name": "stdout",
     "output_type": "stream",
     "text": [
      "input points: 102460, selected points: 51170\n"
     ]
    },
    {
     "name": "stderr",
     "output_type": "stream",
     "text": [
      "FilterScript\n",
      "Reading filter with name Transfer Color: Face to Vertex\n",
      "Reading filter with name Poisson-disk Sampling\n",
      "Reading filter with name Vertex Attribute Transfer\n",
      "100%|██████████| 82/82 [00:15<00:00,  5.14it/s]\n"
     ]
    },
    {
     "name": "stdout",
     "output_type": "stream",
     "text": [
      "input points: 84047, selected points: 43926\n"
     ]
    },
    {
     "name": "stderr",
     "output_type": "stream",
     "text": [
      "FilterScript\n",
      "Reading filter with name Transfer Color: Face to Vertex\n",
      "Reading filter with name Poisson-disk Sampling\n",
      "Reading filter with name Vertex Attribute Transfer\n",
      "100%|██████████| 82/82 [00:21<00:00,  3.85it/s]\n"
     ]
    },
    {
     "name": "stdout",
     "output_type": "stream",
     "text": [
      "input points: 92388, selected points: 65989\n"
     ]
    },
    {
     "name": "stderr",
     "output_type": "stream",
     "text": [
      "FilterScript\n",
      "Reading filter with name Transfer Color: Face to Vertex\n",
      "Reading filter with name Poisson-disk Sampling\n",
      "Reading filter with name Vertex Attribute Transfer\n",
      "100%|██████████| 82/82 [00:18<00:00,  4.48it/s]\n"
     ]
    },
    {
     "name": "stdout",
     "output_type": "stream",
     "text": [
      "input points: 89977, selected points: 43702\n"
     ]
    },
    {
     "name": "stderr",
     "output_type": "stream",
     "text": [
      "FilterScript\n",
      "Reading filter with name Transfer Color: Face to Vertex\n",
      "Reading filter with name Poisson-disk Sampling\n",
      "Reading filter with name Vertex Attribute Transfer\n",
      "100%|██████████| 82/82 [00:22<00:00,  3.64it/s]\n"
     ]
    },
    {
     "name": "stdout",
     "output_type": "stream",
     "text": [
      "input points: 114396, selected points: 62762\n"
     ]
    },
    {
     "name": "stderr",
     "output_type": "stream",
     "text": [
      "FilterScript\n",
      "Reading filter with name Transfer Color: Face to Vertex\n",
      "Reading filter with name Poisson-disk Sampling\n",
      "Reading filter with name Vertex Attribute Transfer\n",
      "100%|██████████| 82/82 [00:11<00:00,  7.20it/s]\n"
     ]
    },
    {
     "name": "stdout",
     "output_type": "stream",
     "text": [
      "input points: 81967, selected points: 36832\n"
     ]
    },
    {
     "name": "stderr",
     "output_type": "stream",
     "text": [
      "FilterScript\n",
      "Reading filter with name Transfer Color: Face to Vertex\n",
      "Reading filter with name Poisson-disk Sampling\n",
      "Reading filter with name Vertex Attribute Transfer\n",
      "100%|██████████| 82/82 [00:19<00:00,  4.23it/s]\n"
     ]
    },
    {
     "name": "stdout",
     "output_type": "stream",
     "text": [
      "input points: 98832, selected points: 70803\n"
     ]
    },
    {
     "name": "stderr",
     "output_type": "stream",
     "text": [
      "FilterScript\n",
      "Reading filter with name Transfer Color: Face to Vertex\n",
      "Reading filter with name Poisson-disk Sampling\n",
      "Reading filter with name Vertex Attribute Transfer\n",
      "100%|██████████| 82/82 [00:17<00:00,  4.70it/s]\n"
     ]
    },
    {
     "name": "stdout",
     "output_type": "stream",
     "text": [
      "input points: 90887, selected points: 56470\n"
     ]
    },
    {
     "name": "stderr",
     "output_type": "stream",
     "text": [
      "FilterScript\n",
      "Reading filter with name Transfer Color: Face to Vertex\n",
      "Reading filter with name Poisson-disk Sampling\n",
      "Reading filter with name Vertex Attribute Transfer\n",
      "100%|██████████| 82/82 [00:11<00:00,  7.10it/s]\n"
     ]
    },
    {
     "name": "stdout",
     "output_type": "stream",
     "text": [
      "input points: 79228, selected points: 50947\n"
     ]
    },
    {
     "name": "stderr",
     "output_type": "stream",
     "text": [
      "FilterScript\n",
      "Reading filter with name Transfer Color: Face to Vertex\n",
      "Reading filter with name Poisson-disk Sampling\n",
      "Reading filter with name Vertex Attribute Transfer\n",
      "100%|██████████| 82/82 [00:14<00:00,  5.76it/s]\n"
     ]
    },
    {
     "name": "stdout",
     "output_type": "stream",
     "text": [
      "input points: 81904, selected points: 58871\n"
     ]
    },
    {
     "name": "stderr",
     "output_type": "stream",
     "text": [
      "FilterScript\n",
      "Reading filter with name Transfer Color: Face to Vertex\n",
      "Reading filter with name Poisson-disk Sampling\n",
      "Reading filter with name Vertex Attribute Transfer\n",
      "100%|██████████| 82/82 [00:16<00:00,  5.05it/s]\n"
     ]
    },
    {
     "name": "stdout",
     "output_type": "stream",
     "text": [
      "input points: 91598, selected points: 56336\n"
     ]
    },
    {
     "name": "stderr",
     "output_type": "stream",
     "text": [
      "FilterScript\n",
      "Reading filter with name Transfer Color: Face to Vertex\n",
      "Reading filter with name Poisson-disk Sampling\n",
      "Reading filter with name Vertex Attribute Transfer\n",
      "100%|██████████| 82/82 [00:29<00:00,  2.75it/s]\n"
     ]
    },
    {
     "name": "stdout",
     "output_type": "stream",
     "text": [
      "input points: 159014, selected points: 78472\n"
     ]
    },
    {
     "name": "stderr",
     "output_type": "stream",
     "text": [
      "FilterScript\n",
      "Reading filter with name Transfer Color: Face to Vertex\n",
      "Reading filter with name Poisson-disk Sampling\n",
      "Reading filter with name Vertex Attribute Transfer\n",
      "100%|██████████| 82/82 [00:24<00:00,  3.38it/s]\n"
     ]
    },
    {
     "name": "stdout",
     "output_type": "stream",
     "text": [
      "input points: 117008, selected points: 80487\n"
     ]
    },
    {
     "name": "stderr",
     "output_type": "stream",
     "text": [
      "FilterScript\n",
      "Reading filter with name Transfer Color: Face to Vertex\n",
      "Reading filter with name Poisson-disk Sampling\n",
      "Reading filter with name Vertex Attribute Transfer\n",
      "100%|██████████| 82/82 [00:12<00:00,  6.63it/s]\n"
     ]
    },
    {
     "name": "stdout",
     "output_type": "stream",
     "text": [
      "input points: 81908, selected points: 37572\n"
     ]
    },
    {
     "name": "stderr",
     "output_type": "stream",
     "text": [
      "FilterScript\n",
      "Reading filter with name Transfer Color: Face to Vertex\n",
      "Reading filter with name Poisson-disk Sampling\n",
      "Reading filter with name Vertex Attribute Transfer\n",
      "100%|██████████| 82/82 [00:10<00:00,  7.81it/s]\n"
     ]
    },
    {
     "name": "stdout",
     "output_type": "stream",
     "text": [
      "input points: 79219, selected points: 30037\n"
     ]
    },
    {
     "name": "stderr",
     "output_type": "stream",
     "text": [
      "FilterScript\n",
      "Reading filter with name Transfer Color: Face to Vertex\n",
      "Reading filter with name Poisson-disk Sampling\n",
      "Reading filter with name Vertex Attribute Transfer\n",
      "100%|██████████| 82/82 [00:27<00:00,  2.99it/s]\n"
     ]
    },
    {
     "name": "stdout",
     "output_type": "stream",
     "text": [
      "input points: 149949, selected points: 69283\n"
     ]
    },
    {
     "name": "stderr",
     "output_type": "stream",
     "text": [
      "FilterScript\n",
      "Reading filter with name Transfer Color: Face to Vertex\n",
      "Reading filter with name Poisson-disk Sampling\n",
      "Reading filter with name Vertex Attribute Transfer\n",
      "100%|██████████| 82/82 [00:28<00:00,  2.88it/s]\n"
     ]
    },
    {
     "name": "stdout",
     "output_type": "stream",
     "text": [
      "input points: 134078, selected points: 89890\n"
     ]
    },
    {
     "name": "stderr",
     "output_type": "stream",
     "text": [
      "FilterScript\n",
      "Reading filter with name Transfer Color: Face to Vertex\n",
      "Reading filter with name Poisson-disk Sampling\n",
      "Reading filter with name Vertex Attribute Transfer\n",
      "100%|██████████| 82/82 [00:21<00:00,  3.81it/s]\n"
     ]
    },
    {
     "name": "stdout",
     "output_type": "stream",
     "text": [
      "input points: 125030, selected points: 62443\n"
     ]
    },
    {
     "name": "stderr",
     "output_type": "stream",
     "text": [
      "FilterScript\n",
      "Reading filter with name Transfer Color: Face to Vertex\n",
      "Reading filter with name Poisson-disk Sampling\n",
      "Reading filter with name Vertex Attribute Transfer\n",
      "100%|██████████| 82/82 [00:23<00:00,  3.54it/s]\n"
     ]
    },
    {
     "name": "stdout",
     "output_type": "stream",
     "text": [
      "input points: 148539, selected points: 57077\n"
     ]
    },
    {
     "name": "stderr",
     "output_type": "stream",
     "text": [
      "FilterScript\n",
      "Reading filter with name Transfer Color: Face to Vertex\n",
      "Reading filter with name Poisson-disk Sampling\n",
      "Reading filter with name Vertex Attribute Transfer\n",
      "100%|██████████| 82/82 [00:15<00:00,  5.21it/s]\n"
     ]
    },
    {
     "name": "stdout",
     "output_type": "stream",
     "text": [
      "input points: 100091, selected points: 53042\n"
     ]
    },
    {
     "name": "stderr",
     "output_type": "stream",
     "text": [
      "FilterScript\n",
      "Reading filter with name Transfer Color: Face to Vertex\n",
      "Reading filter with name Poisson-disk Sampling\n",
      "Reading filter with name Vertex Attribute Transfer\n",
      "100%|██████████| 82/82 [00:13<00:00,  6.27it/s]\n"
     ]
    },
    {
     "name": "stdout",
     "output_type": "stream",
     "text": [
      "input points: 89943, selected points: 38678\n"
     ]
    },
    {
     "name": "stderr",
     "output_type": "stream",
     "text": [
      "FilterScript\n",
      "Reading filter with name Transfer Color: Face to Vertex\n",
      "Reading filter with name Poisson-disk Sampling\n",
      "Reading filter with name Vertex Attribute Transfer\n",
      "100%|██████████| 82/82 [00:10<00:00,  7.62it/s]\n"
     ]
    },
    {
     "name": "stdout",
     "output_type": "stream",
     "text": [
      "input points: 79950, selected points: 33129\n"
     ]
    },
    {
     "name": "stderr",
     "output_type": "stream",
     "text": [
      "FilterScript\n",
      "Reading filter with name Transfer Color: Face to Vertex\n",
      "Reading filter with name Poisson-disk Sampling\n",
      "Reading filter with name Vertex Attribute Transfer\n",
      "100%|██████████| 82/82 [00:22<00:00,  3.60it/s]\n"
     ]
    },
    {
     "name": "stdout",
     "output_type": "stream",
     "text": [
      "input points: 114646, selected points: 75570\n"
     ]
    },
    {
     "name": "stderr",
     "output_type": "stream",
     "text": [
      "FilterScript\n",
      "Reading filter with name Transfer Color: Face to Vertex\n",
      "Reading filter with name Poisson-disk Sampling\n",
      "Reading filter with name Vertex Attribute Transfer\n",
      "100%|██████████| 82/82 [00:18<00:00,  4.42it/s]\n"
     ]
    },
    {
     "name": "stdout",
     "output_type": "stream",
     "text": [
      "input points: 124115, selected points: 58592\n"
     ]
    },
    {
     "name": "stderr",
     "output_type": "stream",
     "text": [
      "FilterScript\n",
      "Reading filter with name Transfer Color: Face to Vertex\n",
      "Reading filter with name Poisson-disk Sampling\n",
      "Reading filter with name Vertex Attribute Transfer\n",
      "100%|██████████| 82/82 [00:11<00:00,  6.96it/s]\n"
     ]
    },
    {
     "name": "stdout",
     "output_type": "stream",
     "text": [
      "input points: 83105, selected points: 39330\n"
     ]
    },
    {
     "name": "stderr",
     "output_type": "stream",
     "text": [
      "FilterScript\n",
      "Reading filter with name Transfer Color: Face to Vertex\n",
      "Reading filter with name Poisson-disk Sampling\n",
      "Reading filter with name Vertex Attribute Transfer\n",
      "100%|██████████| 82/82 [00:09<00:00,  8.41it/s]\n"
     ]
    },
    {
     "name": "stdout",
     "output_type": "stream",
     "text": [
      "input points: 73633, selected points: 26360\n"
     ]
    },
    {
     "name": "stderr",
     "output_type": "stream",
     "text": [
      "FilterScript\n",
      "Reading filter with name Transfer Color: Face to Vertex\n",
      "Reading filter with name Poisson-disk Sampling\n",
      "Reading filter with name Vertex Attribute Transfer\n",
      "100%|██████████| 82/82 [00:20<00:00,  4.00it/s]\n"
     ]
    },
    {
     "name": "stdout",
     "output_type": "stream",
     "text": [
      "input points: 103049, selected points: 78200\n"
     ]
    },
    {
     "name": "stderr",
     "output_type": "stream",
     "text": [
      "FilterScript\n",
      "Reading filter with name Transfer Color: Face to Vertex\n",
      "Reading filter with name Poisson-disk Sampling\n",
      "Reading filter with name Vertex Attribute Transfer\n",
      "100%|██████████| 82/82 [00:23<00:00,  3.56it/s]\n"
     ]
    },
    {
     "name": "stdout",
     "output_type": "stream",
     "text": [
      "input points: 140357, selected points: 61561\n"
     ]
    },
    {
     "name": "stderr",
     "output_type": "stream",
     "text": [
      "FilterScript\n",
      "Reading filter with name Transfer Color: Face to Vertex\n",
      "Reading filter with name Poisson-disk Sampling\n",
      "Reading filter with name Vertex Attribute Transfer\n",
      "100%|██████████| 82/82 [00:13<00:00,  6.20it/s]\n"
     ]
    },
    {
     "name": "stdout",
     "output_type": "stream",
     "text": [
      "input points: 79229, selected points: 46611\n"
     ]
    },
    {
     "name": "stderr",
     "output_type": "stream",
     "text": [
      "FilterScript\n",
      "Reading filter with name Transfer Color: Face to Vertex\n",
      "Reading filter with name Poisson-disk Sampling\n",
      "Reading filter with name Vertex Attribute Transfer\n",
      "100%|██████████| 82/82 [00:14<00:00,  5.85it/s]\n"
     ]
    },
    {
     "name": "stdout",
     "output_type": "stream",
     "text": [
      "input points: 89472, selected points: 43710\n"
     ]
    },
    {
     "name": "stderr",
     "output_type": "stream",
     "text": [
      "FilterScript\n",
      "Reading filter with name Transfer Color: Face to Vertex\n",
      "Reading filter with name Poisson-disk Sampling\n",
      "Reading filter with name Vertex Attribute Transfer\n",
      "100%|██████████| 82/82 [00:44<00:00,  1.82it/s]\n"
     ]
    },
    {
     "name": "stdout",
     "output_type": "stream",
     "text": [
      "input points: 166990, selected points: 124905\n"
     ]
    },
    {
     "name": "stderr",
     "output_type": "stream",
     "text": [
      "FilterScript\n",
      "Reading filter with name Transfer Color: Face to Vertex\n",
      "Reading filter with name Poisson-disk Sampling\n",
      "Reading filter with name Vertex Attribute Transfer\n",
      "100%|██████████| 82/82 [00:18<00:00,  4.41it/s]\n"
     ]
    },
    {
     "name": "stdout",
     "output_type": "stream",
     "text": [
      "input points: 95636, selected points: 64820\n"
     ]
    },
    {
     "name": "stderr",
     "output_type": "stream",
     "text": [
      "FilterScript\n",
      "Reading filter with name Transfer Color: Face to Vertex\n",
      "Reading filter with name Poisson-disk Sampling\n",
      "Reading filter with name Vertex Attribute Transfer\n",
      "100%|██████████| 82/82 [00:16<00:00,  4.87it/s]\n"
     ]
    },
    {
     "name": "stdout",
     "output_type": "stream",
     "text": [
      "input points: 85026, selected points: 58913\n"
     ]
    },
    {
     "name": "stderr",
     "output_type": "stream",
     "text": [
      "FilterScript\n",
      "Reading filter with name Transfer Color: Face to Vertex\n",
      "Reading filter with name Poisson-disk Sampling\n",
      "Reading filter with name Vertex Attribute Transfer\n",
      "100%|██████████| 82/82 [00:18<00:00,  4.42it/s]\n"
     ]
    },
    {
     "name": "stdout",
     "output_type": "stream",
     "text": [
      "input points: 90685, selected points: 68710\n"
     ]
    },
    {
     "name": "stderr",
     "output_type": "stream",
     "text": [
      "FilterScript\n",
      "Reading filter with name Transfer Color: Face to Vertex\n",
      "Reading filter with name Poisson-disk Sampling\n",
      "Reading filter with name Vertex Attribute Transfer\n",
      "100%|██████████| 82/82 [00:12<00:00,  6.40it/s]\n"
     ]
    },
    {
     "name": "stdout",
     "output_type": "stream",
     "text": [
      "input points: 79935, selected points: 44006\n"
     ]
    },
    {
     "name": "stderr",
     "output_type": "stream",
     "text": [
      "FilterScript\n",
      "Reading filter with name Transfer Color: Face to Vertex\n",
      "Reading filter with name Poisson-disk Sampling\n",
      "Reading filter with name Vertex Attribute Transfer\n",
      "100%|██████████| 82/82 [00:12<00:00,  6.49it/s]\n"
     ]
    },
    {
     "name": "stdout",
     "output_type": "stream",
     "text": [
      "input points: 80231, selected points: 43190\n"
     ]
    },
    {
     "name": "stderr",
     "output_type": "stream",
     "text": [
      "FilterScript\n",
      "Reading filter with name Transfer Color: Face to Vertex\n",
      "Reading filter with name Poisson-disk Sampling\n",
      "Reading filter with name Vertex Attribute Transfer\n",
      "100%|██████████| 82/82 [00:12<00:00,  6.60it/s]\n"
     ]
    },
    {
     "name": "stdout",
     "output_type": "stream",
     "text": [
      "input points: 82181, selected points: 34879\n"
     ]
    },
    {
     "name": "stderr",
     "output_type": "stream",
     "text": [
      "FilterScript\n",
      "Reading filter with name Transfer Color: Face to Vertex\n",
      "Reading filter with name Poisson-disk Sampling\n",
      "Reading filter with name Vertex Attribute Transfer\n",
      "100%|██████████| 82/82 [00:15<00:00,  5.33it/s]\n"
     ]
    },
    {
     "name": "stdout",
     "output_type": "stream",
     "text": [
      "input points: 95176, selected points: 57329\n"
     ]
    },
    {
     "name": "stderr",
     "output_type": "stream",
     "text": [
      "FilterScript\n",
      "Reading filter with name Transfer Color: Face to Vertex\n",
      "Reading filter with name Poisson-disk Sampling\n",
      "Reading filter with name Vertex Attribute Transfer\n",
      "100%|██████████| 82/82 [00:17<00:00,  4.71it/s]\n"
     ]
    },
    {
     "name": "stdout",
     "output_type": "stream",
     "text": [
      "input points: 102535, selected points: 52174\n"
     ]
    },
    {
     "name": "stderr",
     "output_type": "stream",
     "text": [
      "FilterScript\n",
      "Reading filter with name Transfer Color: Face to Vertex\n",
      "Reading filter with name Poisson-disk Sampling\n",
      "Reading filter with name Vertex Attribute Transfer\n",
      "100%|██████████| 82/82 [00:20<00:00,  4.08it/s]\n"
     ]
    },
    {
     "name": "stdout",
     "output_type": "stream",
     "text": [
      "input points: 88451, selected points: 69256\n"
     ]
    },
    {
     "name": "stderr",
     "output_type": "stream",
     "text": [
      "FilterScript\n",
      "Reading filter with name Transfer Color: Face to Vertex\n",
      "Reading filter with name Poisson-disk Sampling\n",
      "Reading filter with name Vertex Attribute Transfer\n",
      "100%|██████████| 82/82 [00:10<00:00,  7.60it/s]\n"
     ]
    },
    {
     "name": "stdout",
     "output_type": "stream",
     "text": [
      "input points: 80175, selected points: 38261\n"
     ]
    },
    {
     "name": "stderr",
     "output_type": "stream",
     "text": [
      "FilterScript\n",
      "Reading filter with name Transfer Color: Face to Vertex\n",
      "Reading filter with name Poisson-disk Sampling\n",
      "Reading filter with name Vertex Attribute Transfer\n",
      "100%|██████████| 82/82 [00:20<00:00,  4.05it/s]\n"
     ]
    },
    {
     "name": "stdout",
     "output_type": "stream",
     "text": [
      "input points: 111396, selected points: 58905\n"
     ]
    },
    {
     "name": "stderr",
     "output_type": "stream",
     "text": [
      "FilterScript\n",
      "Reading filter with name Transfer Color: Face to Vertex\n",
      "Reading filter with name Poisson-disk Sampling\n",
      "Reading filter with name Vertex Attribute Transfer\n",
      "100%|██████████| 82/82 [00:38<00:00,  2.16it/s]\n"
     ]
    },
    {
     "name": "stdout",
     "output_type": "stream",
     "text": [
      "input points: 153011, selected points: 119640\n"
     ]
    },
    {
     "name": "stderr",
     "output_type": "stream",
     "text": [
      "FilterScript\n",
      "Reading filter with name Transfer Color: Face to Vertex\n",
      "Reading filter with name Poisson-disk Sampling\n",
      "Reading filter with name Vertex Attribute Transfer\n",
      "100%|██████████| 82/82 [00:18<00:00,  4.41it/s]\n"
     ]
    },
    {
     "name": "stdout",
     "output_type": "stream",
     "text": [
      "input points: 91751, selected points: 61706\n"
     ]
    },
    {
     "name": "stderr",
     "output_type": "stream",
     "text": [
      "FilterScript\n",
      "Reading filter with name Transfer Color: Face to Vertex\n",
      "Reading filter with name Poisson-disk Sampling\n",
      "Reading filter with name Vertex Attribute Transfer\n",
      "100%|██████████| 82/82 [00:20<00:00,  4.02it/s]\n"
     ]
    },
    {
     "name": "stdout",
     "output_type": "stream",
     "text": [
      "input points: 101686, selected points: 72279\n"
     ]
    },
    {
     "name": "stderr",
     "output_type": "stream",
     "text": [
      "FilterScript\n",
      "Reading filter with name Transfer Color: Face to Vertex\n",
      "Reading filter with name Poisson-disk Sampling\n",
      "Reading filter with name Vertex Attribute Transfer\n",
      "100%|██████████| 82/82 [00:07<00:00, 11.14it/s]\n"
     ]
    },
    {
     "name": "stdout",
     "output_type": "stream",
     "text": [
      "input points: 64852, selected points: 31924\n"
     ]
    },
    {
     "name": "stderr",
     "output_type": "stream",
     "text": [
      "FilterScript\n",
      "Reading filter with name Transfer Color: Face to Vertex\n",
      "Reading filter with name Poisson-disk Sampling\n",
      "Reading filter with name Vertex Attribute Transfer\n",
      "100%|██████████| 82/82 [00:12<00:00,  6.68it/s]\n"
     ]
    },
    {
     "name": "stdout",
     "output_type": "stream",
     "text": [
      "input points: 79362, selected points: 36063\n"
     ]
    },
    {
     "name": "stderr",
     "output_type": "stream",
     "text": [
      "FilterScript\n",
      "Reading filter with name Transfer Color: Face to Vertex\n",
      "Reading filter with name Poisson-disk Sampling\n",
      "Reading filter with name Vertex Attribute Transfer\n",
      "100%|██████████| 82/82 [00:11<00:00,  7.33it/s]\n"
     ]
    },
    {
     "name": "stdout",
     "output_type": "stream",
     "text": [
      "input points: 77298, selected points: 32771\n"
     ]
    },
    {
     "name": "stderr",
     "output_type": "stream",
     "text": [
      "FilterScript\n",
      "Reading filter with name Transfer Color: Face to Vertex\n",
      "Reading filter with name Poisson-disk Sampling\n",
      "Reading filter with name Vertex Attribute Transfer\n",
      "100%|██████████| 82/82 [00:32<00:00,  2.54it/s]\n"
     ]
    },
    {
     "name": "stdout",
     "output_type": "stream",
     "text": [
      "input points: 166129, selected points: 78280\n"
     ]
    },
    {
     "name": "stderr",
     "output_type": "stream",
     "text": [
      "FilterScript\n",
      "Reading filter with name Transfer Color: Face to Vertex\n",
      "Reading filter with name Poisson-disk Sampling\n",
      "Reading filter with name Vertex Attribute Transfer\n",
      "100%|██████████| 82/82 [00:15<00:00,  5.46it/s]\n"
     ]
    },
    {
     "name": "stdout",
     "output_type": "stream",
     "text": [
      "input points: 90697, selected points: 59974\n"
     ]
    },
    {
     "name": "stderr",
     "output_type": "stream",
     "text": [
      "FilterScript\n",
      "Reading filter with name Transfer Color: Face to Vertex\n",
      "Reading filter with name Poisson-disk Sampling\n",
      "Reading filter with name Vertex Attribute Transfer\n",
      "100%|██████████| 82/82 [00:22<00:00,  3.73it/s]\n"
     ]
    },
    {
     "name": "stdout",
     "output_type": "stream",
     "text": [
      "input points: 112728, selected points: 67662\n"
     ]
    },
    {
     "name": "stderr",
     "output_type": "stream",
     "text": [
      "FilterScript\n",
      "Reading filter with name Transfer Color: Face to Vertex\n",
      "Reading filter with name Poisson-disk Sampling\n",
      "Reading filter with name Vertex Attribute Transfer\n",
      "100%|██████████| 82/82 [00:12<00:00,  6.71it/s]\n"
     ]
    },
    {
     "name": "stdout",
     "output_type": "stream",
     "text": [
      "input points: 92475, selected points: 48597\n"
     ]
    },
    {
     "name": "stderr",
     "output_type": "stream",
     "text": [
      "FilterScript\n",
      "Reading filter with name Transfer Color: Face to Vertex\n",
      "Reading filter with name Poisson-disk Sampling\n",
      "Reading filter with name Vertex Attribute Transfer\n",
      "100%|██████████| 82/82 [00:14<00:00,  5.75it/s]\n"
     ]
    },
    {
     "name": "stdout",
     "output_type": "stream",
     "text": [
      "input points: 88963, selected points: 61834\n"
     ]
    }
   ],
   "source": [
    "import pymeshlab,os\n",
    "# allfiles = os.listdir('/mnt/d/junch_data/AtlasNet/02958343')\n",
    "for i in range(0, 100):\n",
    "    fp = allcarfoldersnew[i]\n",
    "    ms = pymeshlab.MeshSet()\n",
    "    ms.load_new_mesh(os.path.join('/mnt/d/junch_data/AtlasNet/02958343',fp,'models/model_normalized.obj'))\n",
    "    ms.load_filter_script('/mnt/d/junch_data/AtlasNet/proc.mlx')\n",
    "    ms.apply_filter_script()\n",
    "    ms.save_current_mesh('result1.ply')\n",
    "    pcd = o3d.io.read_point_cloud(\"result1.ply\")\n",
    "    xyz = np.asarray(pcd.points)\n",
    "    rgb = np.asarray(pcd.colors)\n",
    "\n",
    "    xyz = bounding_box_normalization(xyz.astype(np.float32))\n",
    "    rgb = rgb[:, 0:3].astype(np.float32)\n",
    "    cam_pos = np.loadtxt('/mnt/d/junch_data/AtlasNet/cam_pos.xyz').astype(np.float32)\n",
    "\n",
    "    r = xyz.shape[0] * 0.005\n",
    "\n",
    "    vis_idx = []\n",
    "    for cid in tqdm(range(cam_pos.shape[0])):\n",
    "        x_v, y_v, z_v = cam_pos[cid, 0], cam_pos[cid, 1], cam_pos[cid, 2]\n",
    "        vis_idx.append(extract_visible_points(xyz, x_v, y_v, z_v, r)[0])\n",
    "    vis_idx = list(set(np.concatenate(vis_idx)))\n",
    "    print('input points: {}, selected points: {}'.format(xyz.shape[0], len(vis_idx)))\n",
    "    input_points = np.concatenate((xyz, rgb), axis=-1)\n",
    "    output_points = input_points[vis_idx]\n",
    "    save_pc_as_ply('p_all1.ply', input_points[:, 0:3], colors=input_points[:, 3:6])\n",
    "    save_pc_as_ply('p_vis1.ply', output_points[:, 0:3], colors=output_points[:, 3:6])\n",
    "    \n",
    "    pcd=o3d.io.read_point_cloud(\"p_vis1.ply\")\n",
    "    p=np.asarray(pcd.points)\n",
    "    idxes = farthest_point_sample(point=p)\n",
    "    \n",
    "    p=np.asarray(pcd.points)[idxes]\n",
    "    c=np.asarray(pcd.colors)[idxes]\n",
    "    s_p=os.path.join('/mnt/d/junch_data/diffusion_231019/all_car_pointcloud_vis',fp+'.ply')\n",
    "    save_pc_as_ply(s_p,p,c)"
   ]
  },
  {
   "cell_type": "code",
   "execution_count": null,
   "metadata": {},
   "outputs": [],
   "source": []
  }
 ],
 "metadata": {
  "kernelspec": {
   "display_name": "fyp-linux",
   "language": "python",
   "name": "python3"
  },
  "language_info": {
   "codemirror_mode": {
    "name": "ipython",
    "version": 3
   },
   "file_extension": ".py",
   "mimetype": "text/x-python",
   "name": "python",
   "nbconvert_exporter": "python",
   "pygments_lexer": "ipython3",
   "version": "3.9.18"
  }
 },
 "nbformat": 4,
 "nbformat_minor": 2
}
